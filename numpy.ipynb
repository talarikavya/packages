{
 "cells": [
  {
   "cell_type": "markdown",
   "id": "d2f58487-5185-4efe-9c6a-c55754555ba6",
   "metadata": {},
   "source": [
    "# What is a Python Package?\n"
   ]
  },
  {
   "cell_type": "markdown",
   "id": "bdd2f0b5-a2aa-4987-a99a-978ccbfa99c2",
   "metadata": {},
   "source": [
    "Python Packages are a way to organize and structure your Python code into reusable components. Think of it like a folder that contains related Python files (modules) that work together to provide certain functionality. Packages help keep your code organized, make it easier to manage and maintain, and allow you to share your code with others. They’re like a toolbox where you can store and organize your tools (functions and classes) for easy access and reuse in different projects."
   ]
  },
  {
   "cell_type": "markdown",
   "id": "be52809e-1df4-4770-a0fd-88843ab5be21",
   "metadata": {},
   "source": [
    "# How to Create Package in Python?\n"
   ]
  },
  {
   "cell_type": "markdown",
   "id": "3b85210b-b541-4a8d-9f07-5918bfd94625",
   "metadata": {},
   "source": [
    "Creating packages in Python allows you to organize your code into reusable and manageable modules. Here’s a brief overview of how to create packages:-\n",
    "\n",
    "*Create a Directory: Start by creating a directory (folder) for your package. This directory will serve as the root of your package structure.\n",
    "\n",
    "*\n",
    "Add Modules: Within the package directory, you can add Python files (modules) containing your code. Each module should represent a distinct functionality or component of your package\n",
    "\n",
    "*\r\n",
    "Init File: Include an __init__.py file in the package directory. This file can be empty or can contain an initialization code for your package. It signals to Python that the directory should be treated as a packag\n",
    "\n",
    "*.\r\n",
    "Subpackages: You can create sub-packages within your package by adding additional directories containing modules, along with their own __init__.py fil\n",
    "\n",
    "*s.\r\n",
    "Importing: To use modules from your package, import them into your Python scripts using dot notat\n",
    "\n",
    "on. For example, if you have a module named module1.py inside a package named mypackage, you would import its function like this: from mypackage.module1 import gr\n",
    "\n",
    "*et.\r\n",
    "Distribution: If you want to distribute your package for others to use, you can create a setup.py file using Python’s setuptools library. This file defines metadata about your package and specifies how it should be instaled.\r\n"
   ]
  },
  {
   "cell_type": "markdown",
   "id": "068c579b-dd7d-478b-adb3-dc074d7331fd",
   "metadata": {},
   "source": [
    "# Here’s a basic code sample demonstrating how to create a simple Python package:\r\n",
    "-\r\n",
    "Create a directory named mypackag\n",
    "\n",
    "e-.\r\n",
    "Inside mypackage, create two Python files: module1.py and module2.\n",
    "\n",
    "p-y.\r\n",
    "Create an __init__.py file inside mypackage (it can be emp\n",
    "\n",
    "t-y).\r\n",
    "Add some code to the mod\n",
    "\n",
    "u-les.\r\n",
    "Finally, demonstrate how to import and use the modules from the pa\n",
    "\n",
    "\n",
    "*kage.\r\n",
    "mypackage/\r\n",
    "│\r\n",
    "├── __init__.py\r\n",
    "├── module1.py\r\n",
    "└── module2.py\r\n"
   ]
  },
  {
   "cell_type": "code",
   "execution_count": 14,
   "id": "6b9138c2-1c68-48ea-b6a1-b1c8e98f4c61",
   "metadata": {},
   "outputs": [],
   "source": [
    "def world(name):\n",
    "    print(Hello,{name})"
   ]
  },
  {
   "cell_type": "code",
   "execution_count": 15,
   "id": "a71c4c84-dd0c-4754-9b6a-c9a3eb2e212b",
   "metadata": {},
   "outputs": [],
   "source": [
    "name = \"hello\""
   ]
  },
  {
   "cell_type": "markdown",
   "id": "3fdbd748-9086-4de8-9e54-038d9cd537f3",
   "metadata": {},
   "source": [
    "# Python Packages for Web frameworks"
   ]
  },
  {
   "cell_type": "markdown",
   "id": "37ed4f9d-542d-42a5-a1ad-247842c864e1",
   "metadata": {},
   "source": [
    "In this segment, we’ll explore a diverse array of Python frameworks designed to streamline web development. From lightweight and flexible options like Flask and Bottle to comprehensive frameworks like Django and Pyramid, we’ll cover the spectrum of tools available to Python developers. Whether you’re building simple web applications or complex, high-performance APIs, there’s a framework tailored to your needs."
   ]
  },
  {
   "cell_type": "markdown",
   "id": "9fa5d654-1ddf-4bba-b71b-7492b3b05488",
   "metadata": {},
   "source": [
    "# Flask:-\n",
    "Flask is a lightweight and flexible web framework for Python. It’s designed to make getting started with web development in Python quick and easy, with a simple and intuitive interface. Flask provides tools and libraries to help you build web applications, APIs, and other web services.\r\n"
   ]
  },
  {
   "cell_type": "markdown",
   "id": "1e31a3a9-1925-4b0d-a964-31fa1ee20231",
   "metadata": {},
   "source": [
    "# Django:-\n",
    "Django is a Python web framework for building web applications quickly and efficiently. It follows the DRY principle and includes features like URL routing, database management, and authentication, making development easier. It’s highly customizable and widely used in web development.\n"
   ]
  },
  {
   "cell_type": "markdown",
   "id": "f22b711b-4853-4fdd-b0aa-aded8627d180",
   "metadata": {},
   "source": [
    "# FastAPI:-\n",
    "Python FastAPI is a high-performance web framework for building APIs quickly and efficiently. It’s easy to use, based on standard Python-type hints, and offers automatic interactive documentation. FastAPI is designed to be fast, easy to learn, and ideal for building modern web APIs.\n"
   ]
  },
  {
   "cell_type": "markdown",
   "id": "ad502641-790c-4d19-b476-e95146ed6758",
   "metadata": {},
   "source": [
    "# Pyramid:-\n",
    "Python Pyramid is a lightweight web framework for building web applications in Python. It emphasizes flexibility, allowing developers to choose the components they need while providing powerful features for handling HTTP requests, routing, and templating.\n"
   ]
  },
  {
   "cell_type": "markdown",
   "id": "c5c65b70-837f-46e7-b450-8d06dad741d4",
   "metadata": {},
   "source": [
    "# Tornado:-\n",
    "Python Tornado is a web framework and asynchronous networking library designed for handling high concurrency with non-blocking I/O operations. It’s ideal for building real-time web applications and APIs due to its efficient event-driven architecture.\r\n"
   ]
  },
  {
   "cell_type": "markdown",
   "id": "1d8cd6bb-5acc-4b6e-bb00-c890f139236b",
   "metadata": {},
   "source": [
    "# Falcon:-\n",
    "Python Falcon is a lightweight web framework designed for building high-performance APIs quickly and easily. It focuses on simplicity, speed, and minimalism, making it ideal for creating RESTful APIs with minimal overhead.\r\n"
   ]
  },
  {
   "cell_type": "markdown",
   "id": "a26b423e-8cf1-4876-9fee-8183f0e734c0",
   "metadata": {},
   "source": [
    "# CherryPy:-\n",
    "CherryPy is a minimalist Python web framework for building web applications. It provides a simple and intuitive interface for handling HTTP requests, allowing developers to focus on their application logic without dealing with the complexities of web server management.\r\n"
   ]
  },
  {
   "cell_type": "markdown",
   "id": "5945c3c5-3dbc-4c40-a9de-3c7ea247e3b9",
   "metadata": {},
   "source": [
    "# Bottle:-\n",
    "Python Bottle is a lightweight web framework for building small web applications in Python with minimal effort and overhead. It’s designed to be simple and easy to use, making it great for prototyping and creating simple APIs or web services.\r\n"
   ]
  },
  {
   "cell_type": "markdown",
   "id": "2d824419-320b-4cf8-8729-1161ed37fd78",
   "metadata": {},
   "source": [
    "# python packages for AI"
   ]
  },
  {
   "cell_type": "markdown",
   "id": "68af56b7-c8be-441b-a88b-ab041f6a2e6f",
   "metadata": {},
   "source": [
    "Here, we’ll explore key Python libraries for statistical analysis, including NumPy, Pandas, Matplotlibic, Seaborn."
   ]
  },
  {
   "cell_type": "markdown",
   "id": "6819623d-48f6-4be0-a0fa-ca78a4940c44",
   "metadata": {},
   "source": [
    "# PYTHON NumPy:-"
   ]
  },
  {
   "cell_type": "markdown",
   "id": "014e910d-26fa-4136-8f09-b15c267b7681",
   "metadata": {},
   "source": [
    "Numpy is a general-purpose array-processing package. It provides a high-performance multidimensional array object, and tools for working with these arrays. It is the fundamental package for scientific computing with Python.\n",
    "\n",
    "*Numpy can also be used as an efficient multi-dimensional container of generic data.\r\n"
   ]
  },
  {
   "cell_type": "markdown",
   "id": "615c39df-ad69-44ff-b640-25abb71a82a0",
   "metadata": {},
   "source": [
    "# Arrays in Numpy:-\n",
    "\n",
    "Array in Numpy is a table of elements (usually numbers), all of the same type, indexed by a tuple of positive integers. In Numpy, number of dimensions of the array is called rank of the array.A tuple of integers giving the size of the array along each dimension is known as shape of the array. An array class in Numpy is called as ndarray. Elements in Numpy arrays are accessed by using square brackets and can be initialized by using nested Python Lists.\r\n",
    "\n"
   ]
  },
  {
   "cell_type": "code",
   "execution_count": 20,
   "id": "87ca6735-7a93-4953-89c8-1201cd728a62",
   "metadata": {},
   "outputs": [
    {
     "name": "stdout",
     "output_type": "stream",
     "text": [
      "Requirement already satisfied: numpy in c:\\users\\talar\\anaconda3\\pythonds\\lib\\site-packages (1.26.4)\n"
     ]
    }
   ],
   "source": [
    "#installation of numpy:-\n",
    "\n",
    "!pip install numpy"
   ]
  },
  {
   "cell_type": "code",
   "execution_count": 21,
   "id": "ce2c7867-18a2-448c-9301-e76fd9afc3c7",
   "metadata": {},
   "outputs": [],
   "source": [
    "import numpy as np"
   ]
  },
  {
   "cell_type": "code",
   "execution_count": 31,
   "id": "f2129d25-4f2d-4c70-862f-86dd870b7e7f",
   "metadata": {},
   "outputs": [
    {
     "name": "stdout",
     "output_type": "stream",
     "text": [
      "[1 2 3]\n"
     ]
    }
   ],
   "source": [
    "a = np.array([1,2,3])\n",
    "b = np.array([[1,2,3],[10,100,1000],[9,8,7]])\n",
    "c = np.array([22,33,44])\n",
    "print(a)"
   ]
  },
  {
   "cell_type": "code",
   "execution_count": 32,
   "id": "60d7981d-cc6e-4435-ba7e-9c242daca0d8",
   "metadata": {},
   "outputs": [
    {
     "name": "stdout",
     "output_type": "stream",
     "text": [
      "[22 33 44]\n"
     ]
    }
   ],
   "source": [
    "print(c)"
   ]
  },
  {
   "cell_type": "code",
   "execution_count": 33,
   "id": "d94e9d35-797b-4eb9-b7bd-8be180281bc0",
   "metadata": {},
   "outputs": [
    {
     "name": "stdout",
     "output_type": "stream",
     "text": [
      "[20 30 40 50]\n"
     ]
    }
   ],
   "source": [
    "# example for dimensions:-\n",
    "\n",
    "s = np.array([20,30,40,50])\n",
    "print(s)"
   ]
  },
  {
   "cell_type": "code",
   "execution_count": 37,
   "id": "2e6da34a-7bc0-44bc-a377-20570480f053",
   "metadata": {},
   "outputs": [
    {
     "data": {
      "text/plain": [
       "array([3, 4, 2])"
      ]
     },
     "execution_count": 37,
     "metadata": {},
     "output_type": "execute_result"
    }
   ],
   "source": [
    "a = np.array([3,4,2])\n",
    "a"
   ]
  },
  {
   "cell_type": "code",
   "execution_count": 38,
   "id": "16ef8231-d58b-421b-a77a-adfb04d155db",
   "metadata": {},
   "outputs": [
    {
     "data": {
      "text/plain": [
       "array([6, 7, 5, 3, 9])"
      ]
     },
     "execution_count": 38,
     "metadata": {},
     "output_type": "execute_result"
    }
   ],
   "source": [
    "w = np.array([6,7,5,3,9])\n",
    "w"
   ]
  },
  {
   "cell_type": "code",
   "execution_count": 43,
   "id": "4b640653-dbf1-460d-83b2-df07fdb55304",
   "metadata": {},
   "outputs": [
    {
     "data": {
      "text/plain": [
       "array([[8, 6, 4],\n",
       "       [4, 8, 2]])"
      ]
     },
     "execution_count": 43,
     "metadata": {},
     "output_type": "execute_result"
    }
   ],
   "source": [
    "x = np.array([[8,6,4],[4,8,2]])           #2dimensions\n",
    "x"
   ]
  },
  {
   "cell_type": "code",
   "execution_count": 47,
   "id": "8389296a-b502-462b-a3d8-f07d4ac854ab",
   "metadata": {},
   "outputs": [
    {
     "name": "stdout",
     "output_type": "stream",
     "text": [
      "[[8 6 4]\n",
      " [4 8 2]]\n"
     ]
    }
   ],
   "source": [
    "print(x)"
   ]
  },
  {
   "cell_type": "code",
   "execution_count": 44,
   "id": "e1bef399-8a1f-417e-9fed-947bfaa2251d",
   "metadata": {},
   "outputs": [
    {
     "name": "stdout",
     "output_type": "stream",
     "text": [
      "[[ 2  4  1]\n",
      " [45 32 99]]\n"
     ]
    }
   ],
   "source": [
    "e = np.array([[2,4,1],[45,32,99]])\n",
    "print(e)"
   ]
  },
  {
   "cell_type": "code",
   "execution_count": 45,
   "id": "d309d766-b3ad-45f2-a1ad-49172324b385",
   "metadata": {},
   "outputs": [
    {
     "name": "stdout",
     "output_type": "stream",
     "text": [
      "[[90 80 70]\n",
      " [33 66 99]]\n"
     ]
    }
   ],
   "source": [
    "r = np.array([[90,80,70],[33,66,99]])\n",
    "print(r)"
   ]
  },
  {
   "cell_type": "code",
   "execution_count": 46,
   "id": "584412d5-5e5c-46bd-ae7d-91bf4fd91c78",
   "metadata": {},
   "outputs": [
    {
     "data": {
      "text/plain": [
       "array([[90, 80, 70],\n",
       "       [33, 66, 99]])"
      ]
     },
     "execution_count": 46,
     "metadata": {},
     "output_type": "execute_result"
    }
   ],
   "source": [
    "r"
   ]
  },
  {
   "cell_type": "code",
   "execution_count": 54,
   "id": "0abffede-2c95-4ad7-911c-bf7cfb26dd9f",
   "metadata": {},
   "outputs": [
    {
     "name": "stdout",
     "output_type": "stream",
     "text": [
      "[[[1 2 3]\n",
      "  [4 5 6]\n",
      "  [7 8 9]]]\n"
     ]
    }
   ],
   "source": [
    "t = np.array([[[1,2,3],[4,5,6],[7,8,9]]])      #3dimension\n",
    "print(t)"
   ]
  },
  {
   "cell_type": "code",
   "execution_count": 55,
   "id": "bcdad6cb-d122-4d38-b20f-341ac2b13e0e",
   "metadata": {},
   "outputs": [
    {
     "data": {
      "text/plain": [
       "array([[[ 44,  56,  89],\n",
       "        [233, 789, 560],\n",
       "        [ 12,  13,  14]]])"
      ]
     },
     "execution_count": 55,
     "metadata": {},
     "output_type": "execute_result"
    }
   ],
   "source": [
    "f = np.array([[[44,56,89],[233,789,560],[12,13,14]]])\n",
    "f"
   ]
  },
  {
   "cell_type": "code",
   "execution_count": 56,
   "id": "08108941-c011-4e0b-bcde-58fc9225f68b",
   "metadata": {},
   "outputs": [
    {
     "name": "stdout",
     "output_type": "stream",
     "text": [
      "[[[ 44.     6.     2.  ]\n",
      "  [ 66.     7.   908.  ]\n",
      "  [ 90.8   70.56   5.9 ]]]\n"
     ]
    }
   ],
   "source": [
    "d = np.array([[[44,6,2],[66,7,908],[90.80,70.56,5.9]]])\n",
    "print(d)"
   ]
  },
  {
   "cell_type": "code",
   "execution_count": 57,
   "id": "69c267ff-afa1-4b40-9610-1d0f0fb630d8",
   "metadata": {},
   "outputs": [
    {
     "data": {
      "text/plain": [
       "array([[[ 44.  ,   6.  ,   2.  ],\n",
       "        [ 66.  ,   7.  , 908.  ],\n",
       "        [ 90.8 ,  70.56,   5.9 ]]])"
      ]
     },
     "execution_count": 57,
     "metadata": {},
     "output_type": "execute_result"
    }
   ],
   "source": [
    "d"
   ]
  },
  {
   "cell_type": "code",
   "execution_count": 58,
   "id": "842df973-e6a6-4ee7-aa12-b1e442ae8c91",
   "metadata": {},
   "outputs": [
    {
     "name": "stdout",
     "output_type": "stream",
     "text": [
      "[[[ 4  5  6]\n",
      "  [ 5  6  7]\n",
      "  [78 55  3]]]\n"
     ]
    }
   ],
   "source": [
    "o = np.array([[[4,5,6],[5,6,7],[78,55,3]]])\n",
    "print(o)"
   ]
  },
  {
   "cell_type": "code",
   "execution_count": 59,
   "id": "6230074b-e8f8-49ff-a020-89dbb70cf6f1",
   "metadata": {},
   "outputs": [
    {
     "data": {
      "text/plain": [
       "array([[[ 4,  5,  6],\n",
       "        [ 5,  6,  7],\n",
       "        [78, 55,  3]]])"
      ]
     },
     "execution_count": 59,
     "metadata": {},
     "output_type": "execute_result"
    }
   ],
   "source": [
    "o"
   ]
  },
  {
   "cell_type": "code",
   "execution_count": 64,
   "id": "bcee680e-1dc1-4427-840c-cbd25a15d6e4",
   "metadata": {},
   "outputs": [
    {
     "name": "stdout",
     "output_type": "stream",
     "text": [
      "[[[23 44 22]\n",
      "  [ 4  7  0]\n",
      "  [44 56 98]]]\n"
     ]
    }
   ],
   "source": [
    "t = np.array([[[23,44,22],[4,7,0],[44,56,98]]])\n",
    "print(t)"
   ]
  },
  {
   "cell_type": "code",
   "execution_count": 65,
   "id": "725b19cb-28c5-4085-9e9e-991f17c0427e",
   "metadata": {},
   "outputs": [
    {
     "data": {
      "text/plain": [
       "array([[[23, 44, 22],\n",
       "        [ 4,  7,  0],\n",
       "        [44, 56, 98]]])"
      ]
     },
     "execution_count": 65,
     "metadata": {},
     "output_type": "execute_result"
    }
   ],
   "source": [
    "t"
   ]
  },
  {
   "cell_type": "code",
   "execution_count": 66,
   "id": "c836bfac-4c42-4cca-97ba-77b3e826bae5",
   "metadata": {},
   "outputs": [
    {
     "name": "stdout",
     "output_type": "stream",
     "text": [
      "[[[ 2  8  7]\n",
      "  [ 3  5  9]\n",
      "  [ 1  6 44]]]\n"
     ]
    }
   ],
   "source": [
    "y = np.array([[[2,8,7],[3,5,9],[1,6,44]]])\n",
    "print(y)"
   ]
  },
  {
   "cell_type": "code",
   "execution_count": 67,
   "id": "e66f255a-e93a-4f55-90a0-bdd439f6b4d4",
   "metadata": {},
   "outputs": [
    {
     "data": {
      "text/plain": [
       "array([[[ 2,  8,  7],\n",
       "        [ 3,  5,  9],\n",
       "        [ 1,  6, 44]]])"
      ]
     },
     "execution_count": 67,
     "metadata": {},
     "output_type": "execute_result"
    }
   ],
   "source": [
    "y"
   ]
  },
  {
   "cell_type": "code",
   "execution_count": 69,
   "id": "b1697cdd-2b6e-4504-bdcf-539578028c9b",
   "metadata": {},
   "outputs": [
    {
     "name": "stdout",
     "output_type": "stream",
     "text": [
      "[[[[ 2  3  4]\n",
      "   [ 7  8  5]\n",
      "   [ 8  4 90]\n",
      "   [ 4 65 44]]]]\n"
     ]
    }
   ],
   "source": [
    "l = np.array([[[[2,3,4],[7,8,5],[8,4,90],[4,65,44]]]])       #4dimension\n",
    "print(l)"
   ]
  },
  {
   "cell_type": "code",
   "execution_count": 71,
   "id": "9e325bed-d5bc-4a38-b0d1-f2a25b17889e",
   "metadata": {},
   "outputs": [
    {
     "name": "stdout",
     "output_type": "stream",
     "text": [
      "[[[[56 44 89]\n",
      "   [33 89 67]\n",
      "   [ 4  7  6]\n",
      "   [55 66 77]]]]\n"
     ]
    },
    {
     "data": {
      "text/plain": [
       "array([[[[56, 44, 89],\n",
       "         [33, 89, 67],\n",
       "         [ 4,  7,  6],\n",
       "         [55, 66, 77]]]])"
      ]
     },
     "execution_count": 71,
     "metadata": {},
     "output_type": "execute_result"
    }
   ],
   "source": [
    "j = np.array([[[[56,44,89],[33,89,67],[4,7,6],[55,66,77]]]])\n",
    "print(j)\n",
    "j"
   ]
  },
  {
   "cell_type": "code",
   "execution_count": 73,
   "id": "46d060ab-c821-4885-91b6-a1f8f347043d",
   "metadata": {},
   "outputs": [
    {
     "name": "stdout",
     "output_type": "stream",
     "text": [
      "[[[[ 3  4  5]\n",
      "   [78 98 67]\n",
      "   [45 89 90]\n",
      "   [ 8  0  9]]]]\n"
     ]
    }
   ],
   "source": [
    "h = np.array([[[[3,4,5],[78,98,67],[45,89,90],[8,0,9]]]])\n",
    "h\n",
    "print(h)"
   ]
  },
  {
   "cell_type": "code",
   "execution_count": 74,
   "id": "a6cde2b5-b842-4f90-93ea-37d562cca0b8",
   "metadata": {},
   "outputs": [
    {
     "data": {
      "text/plain": [
       "array([[[[ 1,  2,  3,  4],\n",
       "         [ 5,  6,  7,  8],\n",
       "         [12, 13, 14, 15],\n",
       "         [78, 56, 98, 90]]]])"
      ]
     },
     "execution_count": 74,
     "metadata": {},
     "output_type": "execute_result"
    }
   ],
   "source": [
    "q = np.array([[[[1,2,3,4],[5,6,7,8],[12,13,14,15],[78,56,98,90]]]])\n",
    "q"
   ]
  },
  {
   "cell_type": "code",
   "execution_count": 75,
   "id": "47451995-3ecc-4e68-b98d-2b845cd44990",
   "metadata": {},
   "outputs": [
    {
     "name": "stdout",
     "output_type": "stream",
     "text": [
      "[[[[ 1  2  3  4]\n",
      "   [ 5  6  7  8]\n",
      "   [12 13 14 15]\n",
      "   [78 56 98 90]]]]\n"
     ]
    }
   ],
   "source": [
    "print(q)"
   ]
  },
  {
   "cell_type": "code",
   "execution_count": 76,
   "id": "4bb58392-434f-4c54-aa1e-d39a1ca0f632",
   "metadata": {},
   "outputs": [
    {
     "name": "stdout",
     "output_type": "stream",
     "text": [
      "[[[[ 2  5  8]\n",
      "   [45 46 47]\n",
      "   [ 3  4  5]\n",
      "   [89 78 56]]]]\n"
     ]
    }
   ],
   "source": [
    "d = np.array([[[[2,5,8],[45,46,47],[3,4,5],[89,78,56]]]])\n",
    "print(d)"
   ]
  },
  {
   "cell_type": "code",
   "execution_count": 77,
   "id": "dd15096b-a3fc-4fe5-81b6-9f519f9b70a3",
   "metadata": {},
   "outputs": [
    {
     "data": {
      "text/plain": [
       "array([[[[ 2,  5,  8],\n",
       "         [45, 46, 47],\n",
       "         [ 3,  4,  5],\n",
       "         [89, 78, 56]]]])"
      ]
     },
     "execution_count": 77,
     "metadata": {},
     "output_type": "execute_result"
    }
   ],
   "source": [
    "d"
   ]
  },
  {
   "cell_type": "code",
   "execution_count": 79,
   "id": "e61fe285-e32c-4e9d-9f31-6b51267eaa24",
   "metadata": {},
   "outputs": [
    {
     "data": {
      "text/plain": [
       "array([[[[[ 1,  2,  3],\n",
       "          [ 4,  5,  6],\n",
       "          [ 6,  4,  6],\n",
       "          [89, 78, 68],\n",
       "          [ 7,  9, 80]]]]])"
      ]
     },
     "execution_count": 79,
     "metadata": {},
     "output_type": "execute_result"
    }
   ],
   "source": [
    "c = np.array([[[[[1,2,3],[4,5,6],[6,4,6],[89,78,68],[7,9,80]]]]])   #5dimension\n",
    "c"
   ]
  },
  {
   "cell_type": "code",
   "execution_count": 80,
   "id": "7a6ed06a-f288-4270-a90c-f3039980fefa",
   "metadata": {},
   "outputs": [
    {
     "name": "stdout",
     "output_type": "stream",
     "text": [
      "[[[[[ 2  3  4]\n",
      "    [ 6  7  8]\n",
      "    [34 35 36]\n",
      "    [78 66 45]\n",
      "    [ 3  4  5]]]]]\n"
     ]
    }
   ],
   "source": [
    "v = np.array([[[[[2,3,4],[6,7,8],[34,35,36],[78,66,45],[3,4,5]]]]])\n",
    "print(v)"
   ]
  },
  {
   "cell_type": "code",
   "execution_count": 82,
   "id": "74a62e34-e7fb-464d-a039-e40a82498ebc",
   "metadata": {},
   "outputs": [
    {
     "name": "stdout",
     "output_type": "stream",
     "text": [
      "[[[[[ 1  2  3  4]\n",
      "    [ 5  6  7  8]\n",
      "    [ 9 10 11 12]\n",
      "    [13 14 15 16]\n",
      "    [17 18 19 20]]]]]\n"
     ]
    },
    {
     "data": {
      "text/plain": [
       "array([[[[[ 1,  2,  3,  4],\n",
       "          [ 5,  6,  7,  8],\n",
       "          [ 9, 10, 11, 12],\n",
       "          [13, 14, 15, 16],\n",
       "          [17, 18, 19, 20]]]]])"
      ]
     },
     "execution_count": 82,
     "metadata": {},
     "output_type": "execute_result"
    }
   ],
   "source": [
    "u = np.array([[[[[1,2,3,4],[5,6,7,8],[9,10,11,12],[13,14,15,16],[17,18,19,20]]]]])\n",
    "print(u)\n",
    "u"
   ]
  },
  {
   "cell_type": "markdown",
   "id": "4fd499dc-1d82-4b25-a386-82625df4346d",
   "metadata": {},
   "source": [
    "# INITIAL PLACEHOLDER:"
   ]
  },
  {
   "cell_type": "code",
   "execution_count": 90,
   "id": "12611827-8135-420e-8752-bf7bdeb6babd",
   "metadata": {},
   "outputs": [
    {
     "data": {
      "text/plain": [
       "array([[0., 0., 0., 0.],\n",
       "       [0., 0., 0., 0.]])"
      ]
     },
     "execution_count": 90,
     "metadata": {},
     "output_type": "execute_result"
    }
   ],
   "source": [
    "#zero's as elements we are using\n",
    "np.zeros((2,4)) #here 2 is rows, 4 is elements in rows\n"
   ]
  },
  {
   "cell_type": "code",
   "execution_count": 91,
   "id": "a2bde5f3-84c9-417c-b970-28d9083e1c0f",
   "metadata": {},
   "outputs": [
    {
     "data": {
      "text/plain": [
       "array([[0., 0., 0., 0., 0., 0., 0., 0., 0.],\n",
       "       [0., 0., 0., 0., 0., 0., 0., 0., 0.],\n",
       "       [0., 0., 0., 0., 0., 0., 0., 0., 0.],\n",
       "       [0., 0., 0., 0., 0., 0., 0., 0., 0.],\n",
       "       [0., 0., 0., 0., 0., 0., 0., 0., 0.]])"
      ]
     },
     "execution_count": 91,
     "metadata": {},
     "output_type": "execute_result"
    }
   ],
   "source": [
    "np.zeros((5,9))"
   ]
  },
  {
   "cell_type": "code",
   "execution_count": 92,
   "id": "8e6c46f2-ceea-48e6-8e1f-d55d9c5c13aa",
   "metadata": {},
   "outputs": [
    {
     "data": {
      "text/plain": [
       "array([[0., 0., 0., 0., 0., 0., 0., 0., 0., 0., 0., 0., 0., 0., 0., 0.,\n",
       "        0., 0., 0., 0., 0., 0., 0., 0., 0., 0., 0., 0., 0., 0., 0., 0.,\n",
       "        0., 0., 0., 0., 0., 0., 0., 0., 0., 0., 0., 0., 0., 0., 0., 0.,\n",
       "        0., 0., 0., 0., 0., 0., 0., 0., 0., 0., 0., 0., 0., 0., 0., 0.,\n",
       "        0., 0., 0., 0., 0., 0., 0., 0., 0., 0., 0., 0., 0.],\n",
       "       [0., 0., 0., 0., 0., 0., 0., 0., 0., 0., 0., 0., 0., 0., 0., 0.,\n",
       "        0., 0., 0., 0., 0., 0., 0., 0., 0., 0., 0., 0., 0., 0., 0., 0.,\n",
       "        0., 0., 0., 0., 0., 0., 0., 0., 0., 0., 0., 0., 0., 0., 0., 0.,\n",
       "        0., 0., 0., 0., 0., 0., 0., 0., 0., 0., 0., 0., 0., 0., 0., 0.,\n",
       "        0., 0., 0., 0., 0., 0., 0., 0., 0., 0., 0., 0., 0.],\n",
       "       [0., 0., 0., 0., 0., 0., 0., 0., 0., 0., 0., 0., 0., 0., 0., 0.,\n",
       "        0., 0., 0., 0., 0., 0., 0., 0., 0., 0., 0., 0., 0., 0., 0., 0.,\n",
       "        0., 0., 0., 0., 0., 0., 0., 0., 0., 0., 0., 0., 0., 0., 0., 0.,\n",
       "        0., 0., 0., 0., 0., 0., 0., 0., 0., 0., 0., 0., 0., 0., 0., 0.,\n",
       "        0., 0., 0., 0., 0., 0., 0., 0., 0., 0., 0., 0., 0.]])"
      ]
     },
     "execution_count": 92,
     "metadata": {},
     "output_type": "execute_result"
    }
   ],
   "source": [
    "np.zeros((3,77))"
   ]
  },
  {
   "cell_type": "code",
   "execution_count": 96,
   "id": "07c113cd-93eb-4b07-8c45-215abc9f6873",
   "metadata": {},
   "outputs": [
    {
     "name": "stdout",
     "output_type": "stream",
     "text": [
      "Requirement already satisfied: numpy in c:\\users\\talar\\anaconda3\\pythonds\\lib\\site-packages (1.26.4)\n"
     ]
    }
   ],
   "source": [
    "!pip install numpy"
   ]
  },
  {
   "cell_type": "code",
   "execution_count": 97,
   "id": "c622d313-ec0c-489b-9474-38f5588d3aeb",
   "metadata": {},
   "outputs": [],
   "source": [
    "import numpy as np"
   ]
  },
  {
   "cell_type": "code",
   "execution_count": 107,
   "id": "090806b8-2d0e-4229-bcc1-422ddcc4d8b3",
   "metadata": {},
   "outputs": [
    {
     "name": "stdout",
     "output_type": "stream",
     "text": [
      "[1 3 5 7 9]\n"
     ]
    }
   ],
   "source": [
    "#in arrange start value is starting one, middle value is skip value, end value is n-1 using of show the value\n",
    "\n",
    "arr = np.arange(1, 10, 2)\n",
    "print(arr) # Output: [1 3 5 7 9]\n"
   ]
  },
  {
   "cell_type": "code",
   "execution_count": 110,
   "id": "5d6445da-2049-4a5f-976e-284cce7bbbc9",
   "metadata": {},
   "outputs": [
    {
     "name": "stdout",
     "output_type": "stream",
     "text": [
      "[ 1  6 11 16]\n"
     ]
    }
   ],
   "source": [
    "a = np.arange(1, 20, 5)\n",
    "print(a) "
   ]
  },
  {
   "cell_type": "code",
   "execution_count": 113,
   "id": "b6e3e3c1-0730-476d-9627-39d88c0b00ca",
   "metadata": {},
   "outputs": [
    {
     "name": "stdout",
     "output_type": "stream",
     "text": [
      "[ 1  9 17 25 33 41 49 57 65 73 81 89]\n"
     ]
    }
   ],
   "source": [
    "x = np.arange(1, 90, 8)\n",
    "print(x) "
   ]
  },
  {
   "cell_type": "code",
   "execution_count": 115,
   "id": "491721ea-dadd-48e6-b013-d93e71f39ac2",
   "metadata": {},
   "outputs": [
    {
     "data": {
      "text/plain": [
       "array([  0,  90, 180, 270, 360, 450, 540, 630, 720, 810, 900, 990])"
      ]
     },
     "execution_count": 115,
     "metadata": {},
     "output_type": "execute_result"
    }
   ],
   "source": [
    "s = np.arange(0,1000,90)\n",
    "s"
   ]
  },
  {
   "cell_type": "code",
   "execution_count": 116,
   "id": "36219628-fefe-4088-86c8-98f91911a0df",
   "metadata": {},
   "outputs": [
    {
     "name": "stdout",
     "output_type": "stream",
     "text": [
      "[  90  191  292  393  494  595  696  797  898  999 1100 1201 1302 1403\n",
      " 1504 1605 1706 1807 1908]\n"
     ]
    }
   ],
   "source": [
    "w = np.arange(90,2000,101)\n",
    "print(w)"
   ]
  },
  {
   "cell_type": "markdown",
   "id": "d3a201bd-240f-4587-800a-3046249c4bbb",
   "metadata": {},
   "source": [
    "# linespace:\n",
    "The numpy.linspace() function in Python generates an array of evenly spaced values over a specified interval. It is particularly useful for creating sequences of numbers for plotting or other numerical computations"
   ]
  },
  {
   "cell_type": "code",
   "execution_count": 118,
   "id": "2c0506c1-b951-4fec-bfd9-a7e11ce41a70",
   "metadata": {},
   "outputs": [
    {
     "name": "stdout",
     "output_type": "stream",
     "text": [
      "[ 1.          1.47368421  1.94736842  2.42105263  2.89473684  3.36842105\n",
      "  3.84210526  4.31578947  4.78947368  5.26315789  5.73684211  6.21052632\n",
      "  6.68421053  7.15789474  7.63157895  8.10526316  8.57894737  9.05263158\n",
      "  9.52631579 10.        ]\n"
     ]
    }
   ],
   "source": [
    "q = np.linspace(1,10,20)\n",
    "print(q)"
   ]
  },
  {
   "cell_type": "code",
   "execution_count": 120,
   "id": "7c5e6896-0317-41ea-9f22-2283a185063d",
   "metadata": {},
   "outputs": [
    {
     "data": {
      "text/plain": [
       "array([ 10.        ,  10.90909091,  11.81818182,  12.72727273,\n",
       "        13.63636364,  14.54545455,  15.45454545,  16.36363636,\n",
       "        17.27272727,  18.18181818,  19.09090909,  20.        ,\n",
       "        20.90909091,  21.81818182,  22.72727273,  23.63636364,\n",
       "        24.54545455,  25.45454545,  26.36363636,  27.27272727,\n",
       "        28.18181818,  29.09090909,  30.        ,  30.90909091,\n",
       "        31.81818182,  32.72727273,  33.63636364,  34.54545455,\n",
       "        35.45454545,  36.36363636,  37.27272727,  38.18181818,\n",
       "        39.09090909,  40.        ,  40.90909091,  41.81818182,\n",
       "        42.72727273,  43.63636364,  44.54545455,  45.45454545,\n",
       "        46.36363636,  47.27272727,  48.18181818,  49.09090909,\n",
       "        50.        ,  50.90909091,  51.81818182,  52.72727273,\n",
       "        53.63636364,  54.54545455,  55.45454545,  56.36363636,\n",
       "        57.27272727,  58.18181818,  59.09090909,  60.        ,\n",
       "        60.90909091,  61.81818182,  62.72727273,  63.63636364,\n",
       "        64.54545455,  65.45454545,  66.36363636,  67.27272727,\n",
       "        68.18181818,  69.09090909,  70.        ,  70.90909091,\n",
       "        71.81818182,  72.72727273,  73.63636364,  74.54545455,\n",
       "        75.45454545,  76.36363636,  77.27272727,  78.18181818,\n",
       "        79.09090909,  80.        ,  80.90909091,  81.81818182,\n",
       "        82.72727273,  83.63636364,  84.54545455,  85.45454545,\n",
       "        86.36363636,  87.27272727,  88.18181818,  89.09090909,\n",
       "        90.        ,  90.90909091,  91.81818182,  92.72727273,\n",
       "        93.63636364,  94.54545455,  95.45454545,  96.36363636,\n",
       "        97.27272727,  98.18181818,  99.09090909, 100.        ])"
      ]
     },
     "execution_count": 120,
     "metadata": {},
     "output_type": "execute_result"
    }
   ],
   "source": [
    "w = np.linspace(10,100,100)\n",
    "w"
   ]
  },
  {
   "cell_type": "markdown",
   "id": "df82d026-6ffb-4693-893b-4bad6a929e9a",
   "metadata": {},
   "source": [
    "# full:\n",
    "here in full has starting value is number of time given value and end value has some number"
   ]
  },
  {
   "cell_type": "code",
   "execution_count": 129,
   "id": "9471c138-56e2-4278-8e8d-832ebf978b7a",
   "metadata": {},
   "outputs": [
    {
     "data": {
      "text/plain": [
       "array([100, 100, 100, 100, 100, 100, 100, 100, 100, 100, 100, 100, 100,\n",
       "       100, 100, 100, 100, 100, 100, 100])"
      ]
     },
     "execution_count": 129,
     "metadata": {},
     "output_type": "execute_result"
    }
   ],
   "source": [
    "a = np.full((20),100)\n",
    "a"
   ]
  },
  {
   "cell_type": "code",
   "execution_count": 125,
   "id": "2d264fdd-2a68-4ca0-a8b0-8c8f84e74810",
   "metadata": {},
   "outputs": [
    {
     "name": "stdout",
     "output_type": "stream",
     "text": [
      "[101 101 101 101 101 101 101 101 101 101 101 101 101 101 101 101 101 101\n",
      " 101 101 101 101 101 101 101 101 101 101 101 101 101 101 101 101 101 101\n",
      " 101 101 101 101 101 101 101 101 101 101 101 101 101 101 101 101 101 101\n",
      " 101 101 101 101 101 101 101 101 101 101 101 101 101 101 101 101 101 101\n",
      " 101 101 101 101 101 101 101 101 101 101 101 101 101 101 101 101 101 101\n",
      " 101 101 101 101 101 101 101 101 101 101]\n"
     ]
    }
   ],
   "source": [
    "o = np.full((100),101)\n",
    "print(o)"
   ]
  },
  {
   "cell_type": "code",
   "execution_count": 130,
   "id": "cf84053c-52ee-42fd-8dfc-1edb60dc2b01",
   "metadata": {},
   "outputs": [
    {
     "data": {
      "text/plain": [
       "array([9, 9, 9, 9, 9])"
      ]
     },
     "execution_count": 130,
     "metadata": {},
     "output_type": "execute_result"
    }
   ],
   "source": [
    "t = np.full((5),9)\n",
    "t"
   ]
  },
  {
   "cell_type": "markdown",
   "id": "dd8681ba-597a-4cbb-91c9-28d79896c1b6",
   "metadata": {},
   "source": [
    "# ndim:\n",
    "The ndim attribute in NumPy is used to get the number of dimensions of an array. It returns an integer representing the number of dimensions (axes) of the array\n"
   ]
  },
  {
   "cell_type": "code",
   "execution_count": 132,
   "id": "5efc64a6-b10b-4203-8256-0847a44ba961",
   "metadata": {},
   "outputs": [
    {
     "name": "stdout",
     "output_type": "stream",
     "text": [
      "2\n"
     ]
    }
   ],
   "source": [
    "t = np.full((5),9)\n",
    "print(e.ndim)"
   ]
  },
  {
   "cell_type": "code",
   "execution_count": 139,
   "id": "6d5e75be-4231-4f17-a8b1-495ca3eb0aba",
   "metadata": {},
   "outputs": [
    {
     "name": "stdout",
     "output_type": "stream",
     "text": [
      "[9 9 9 9 9 9]\n",
      "2\n"
     ]
    }
   ],
   "source": [
    "r = np.full((6),9)\n",
    "print(r)\n",
    "print(e.ndim)"
   ]
  },
  {
   "cell_type": "code",
   "execution_count": 142,
   "id": "16e1487c-0672-429e-967f-ab7e6ed904c7",
   "metadata": {},
   "outputs": [
    {
     "name": "stdout",
     "output_type": "stream",
     "text": [
      "[10 10 10 10 10 10 10 10 10 10 10 10 10 10 10 10 10 10 10 10 10 10 10 10\n",
      " 10 10 10 10 10 10 10 10 10 10 10 10 10 10 10 10 10 10 10 10 10 10 10 10\n",
      " 10 10 10 10 10 10 10 10 10 10 10 10 10 10 10 10 10 10 10 10 10 10 10 10\n",
      " 10 10 10 10 10 10 10 10 10 10 10 10 10 10 10 10 10 10 10 10 10 10 10 10\n",
      " 10 10 10 10]\n",
      "2\n"
     ]
    }
   ],
   "source": [
    "t = np.full((100),10)\n",
    "print(t)\n",
    "print(e.ndim)"
   ]
  },
  {
   "cell_type": "code",
   "execution_count": 146,
   "id": "7e2fd118-4f98-483b-97ed-d726c7fa3ed7",
   "metadata": {},
   "outputs": [
    {
     "name": "stdout",
     "output_type": "stream",
     "text": [
      "number of Dimi: 3\n"
     ]
    }
   ],
   "source": [
    "e = np.full((5,9,8),10)           #no of dimnesion in given ndim function\n",
    "print(\"number of Dimi:\",e.ndim)"
   ]
  },
  {
   "cell_type": "code",
   "execution_count": 2,
   "id": "3b609dfd-5383-4922-bb97-c7863e653684",
   "metadata": {},
   "outputs": [
    {
     "name": "stdout",
     "output_type": "stream",
     "text": [
      "Requirement already satisfied: numpy in c:\\users\\talar\\anaconda3\\pythonds\\lib\\site-packages (1.26.4)\n"
     ]
    }
   ],
   "source": [
    "!pip install numpy"
   ]
  },
  {
   "cell_type": "code",
   "execution_count": 3,
   "id": "9c997be6-7557-4fbe-b440-9b69c54c88c3",
   "metadata": {},
   "outputs": [],
   "source": [
    "import numpy as np"
   ]
  },
  {
   "cell_type": "code",
   "execution_count": 6,
   "id": "0dabde55-a3ca-4dc1-b621-c14460f2463c",
   "metadata": {},
   "outputs": [
    {
     "name": "stdout",
     "output_type": "stream",
     "text": [
      "number is dimi: 5\n"
     ]
    }
   ],
   "source": [
    "x = np.full((1,2,3,4,5),9)\n",
    "print(\"number is dimi:\",x.ndim)"
   ]
  },
  {
   "cell_type": "code",
   "execution_count": 3,
   "id": "9e7160bc-6538-4d22-9f9a-dd890de1d5fa",
   "metadata": {},
   "outputs": [
    {
     "name": "stdout",
     "output_type": "stream",
     "text": [
      "Requirement already satisfied: numpy in c:\\users\\talar\\anaconda3\\pythonds\\lib\\site-packages (1.26.4)\n"
     ]
    }
   ],
   "source": [
    "!pip install numpy"
   ]
  },
  {
   "cell_type": "code",
   "execution_count": 4,
   "id": "b5fff317-d25e-449d-8496-ce732749212a",
   "metadata": {},
   "outputs": [],
   "source": [
    "import numpy as np"
   ]
  },
  {
   "cell_type": "code",
   "execution_count": null,
   "id": "db411699-248b-48e0-94a2-e93c011a9774",
   "metadata": {},
   "outputs": [],
   "source": [
    "t = np.full((10,100,1000,10000),10)\n",
    "print(t)\n",
    "print(\"number is dimi:\",t.ndim)"
   ]
  },
  {
   "cell_type": "markdown",
   "id": "74ef05b6-3309-4d1f-8b91-3faf9e3e4b8e",
   "metadata": {},
   "source": [
    "# eye():\n",
    "Return a 2-D array with ones on the diagonal and zeros elsewhere"
   ]
  },
  {
   "cell_type": "code",
   "execution_count": 8,
   "id": "f4ca03c3-b1b6-4f4b-b245-97167abe3cd1",
   "metadata": {},
   "outputs": [
    {
     "name": "stdout",
     "output_type": "stream",
     "text": [
      "[[1. 0. 0. 0. 0. 0. 0. 0. 0. 0.]\n",
      " [0. 1. 0. 0. 0. 0. 0. 0. 0. 0.]\n",
      " [0. 0. 1. 0. 0. 0. 0. 0. 0. 0.]\n",
      " [0. 0. 0. 1. 0. 0. 0. 0. 0. 0.]\n",
      " [0. 0. 0. 0. 1. 0. 0. 0. 0. 0.]\n",
      " [0. 0. 0. 0. 0. 1. 0. 0. 0. 0.]\n",
      " [0. 0. 0. 0. 0. 0. 1. 0. 0. 0.]\n",
      " [0. 0. 0. 0. 0. 0. 0. 1. 0. 0.]\n",
      " [0. 0. 0. 0. 0. 0. 0. 0. 1. 0.]\n",
      " [0. 0. 0. 0. 0. 0. 0. 0. 0. 1.]]\n"
     ]
    }
   ],
   "source": [
    "r = np.eye(10)    #2x2 matrix in arrays\n",
    "print(r)"
   ]
  },
  {
   "cell_type": "code",
   "execution_count": 9,
   "id": "e06afa99-e333-4a61-b46c-b2a9598805d7",
   "metadata": {},
   "outputs": [
    {
     "data": {
      "text/plain": [
       "array([[1., 0., 0., 0., 0., 0., 0., 0., 0., 0., 0., 0., 0., 0., 0., 0.,\n",
       "        0., 0., 0., 0., 0., 0., 0., 0., 0., 0., 0., 0., 0., 0.],\n",
       "       [0., 1., 0., 0., 0., 0., 0., 0., 0., 0., 0., 0., 0., 0., 0., 0.,\n",
       "        0., 0., 0., 0., 0., 0., 0., 0., 0., 0., 0., 0., 0., 0.],\n",
       "       [0., 0., 1., 0., 0., 0., 0., 0., 0., 0., 0., 0., 0., 0., 0., 0.,\n",
       "        0., 0., 0., 0., 0., 0., 0., 0., 0., 0., 0., 0., 0., 0.],\n",
       "       [0., 0., 0., 1., 0., 0., 0., 0., 0., 0., 0., 0., 0., 0., 0., 0.,\n",
       "        0., 0., 0., 0., 0., 0., 0., 0., 0., 0., 0., 0., 0., 0.],\n",
       "       [0., 0., 0., 0., 1., 0., 0., 0., 0., 0., 0., 0., 0., 0., 0., 0.,\n",
       "        0., 0., 0., 0., 0., 0., 0., 0., 0., 0., 0., 0., 0., 0.],\n",
       "       [0., 0., 0., 0., 0., 1., 0., 0., 0., 0., 0., 0., 0., 0., 0., 0.,\n",
       "        0., 0., 0., 0., 0., 0., 0., 0., 0., 0., 0., 0., 0., 0.],\n",
       "       [0., 0., 0., 0., 0., 0., 1., 0., 0., 0., 0., 0., 0., 0., 0., 0.,\n",
       "        0., 0., 0., 0., 0., 0., 0., 0., 0., 0., 0., 0., 0., 0.],\n",
       "       [0., 0., 0., 0., 0., 0., 0., 1., 0., 0., 0., 0., 0., 0., 0., 0.,\n",
       "        0., 0., 0., 0., 0., 0., 0., 0., 0., 0., 0., 0., 0., 0.],\n",
       "       [0., 0., 0., 0., 0., 0., 0., 0., 1., 0., 0., 0., 0., 0., 0., 0.,\n",
       "        0., 0., 0., 0., 0., 0., 0., 0., 0., 0., 0., 0., 0., 0.],\n",
       "       [0., 0., 0., 0., 0., 0., 0., 0., 0., 1., 0., 0., 0., 0., 0., 0.,\n",
       "        0., 0., 0., 0., 0., 0., 0., 0., 0., 0., 0., 0., 0., 0.],\n",
       "       [0., 0., 0., 0., 0., 0., 0., 0., 0., 0., 1., 0., 0., 0., 0., 0.,\n",
       "        0., 0., 0., 0., 0., 0., 0., 0., 0., 0., 0., 0., 0., 0.],\n",
       "       [0., 0., 0., 0., 0., 0., 0., 0., 0., 0., 0., 1., 0., 0., 0., 0.,\n",
       "        0., 0., 0., 0., 0., 0., 0., 0., 0., 0., 0., 0., 0., 0.],\n",
       "       [0., 0., 0., 0., 0., 0., 0., 0., 0., 0., 0., 0., 1., 0., 0., 0.,\n",
       "        0., 0., 0., 0., 0., 0., 0., 0., 0., 0., 0., 0., 0., 0.],\n",
       "       [0., 0., 0., 0., 0., 0., 0., 0., 0., 0., 0., 0., 0., 1., 0., 0.,\n",
       "        0., 0., 0., 0., 0., 0., 0., 0., 0., 0., 0., 0., 0., 0.],\n",
       "       [0., 0., 0., 0., 0., 0., 0., 0., 0., 0., 0., 0., 0., 0., 1., 0.,\n",
       "        0., 0., 0., 0., 0., 0., 0., 0., 0., 0., 0., 0., 0., 0.],\n",
       "       [0., 0., 0., 0., 0., 0., 0., 0., 0., 0., 0., 0., 0., 0., 0., 1.,\n",
       "        0., 0., 0., 0., 0., 0., 0., 0., 0., 0., 0., 0., 0., 0.],\n",
       "       [0., 0., 0., 0., 0., 0., 0., 0., 0., 0., 0., 0., 0., 0., 0., 0.,\n",
       "        1., 0., 0., 0., 0., 0., 0., 0., 0., 0., 0., 0., 0., 0.],\n",
       "       [0., 0., 0., 0., 0., 0., 0., 0., 0., 0., 0., 0., 0., 0., 0., 0.,\n",
       "        0., 1., 0., 0., 0., 0., 0., 0., 0., 0., 0., 0., 0., 0.],\n",
       "       [0., 0., 0., 0., 0., 0., 0., 0., 0., 0., 0., 0., 0., 0., 0., 0.,\n",
       "        0., 0., 1., 0., 0., 0., 0., 0., 0., 0., 0., 0., 0., 0.],\n",
       "       [0., 0., 0., 0., 0., 0., 0., 0., 0., 0., 0., 0., 0., 0., 0., 0.,\n",
       "        0., 0., 0., 1., 0., 0., 0., 0., 0., 0., 0., 0., 0., 0.],\n",
       "       [0., 0., 0., 0., 0., 0., 0., 0., 0., 0., 0., 0., 0., 0., 0., 0.,\n",
       "        0., 0., 0., 0., 1., 0., 0., 0., 0., 0., 0., 0., 0., 0.],\n",
       "       [0., 0., 0., 0., 0., 0., 0., 0., 0., 0., 0., 0., 0., 0., 0., 0.,\n",
       "        0., 0., 0., 0., 0., 1., 0., 0., 0., 0., 0., 0., 0., 0.],\n",
       "       [0., 0., 0., 0., 0., 0., 0., 0., 0., 0., 0., 0., 0., 0., 0., 0.,\n",
       "        0., 0., 0., 0., 0., 0., 1., 0., 0., 0., 0., 0., 0., 0.],\n",
       "       [0., 0., 0., 0., 0., 0., 0., 0., 0., 0., 0., 0., 0., 0., 0., 0.,\n",
       "        0., 0., 0., 0., 0., 0., 0., 1., 0., 0., 0., 0., 0., 0.],\n",
       "       [0., 0., 0., 0., 0., 0., 0., 0., 0., 0., 0., 0., 0., 0., 0., 0.,\n",
       "        0., 0., 0., 0., 0., 0., 0., 0., 1., 0., 0., 0., 0., 0.],\n",
       "       [0., 0., 0., 0., 0., 0., 0., 0., 0., 0., 0., 0., 0., 0., 0., 0.,\n",
       "        0., 0., 0., 0., 0., 0., 0., 0., 0., 1., 0., 0., 0., 0.],\n",
       "       [0., 0., 0., 0., 0., 0., 0., 0., 0., 0., 0., 0., 0., 0., 0., 0.,\n",
       "        0., 0., 0., 0., 0., 0., 0., 0., 0., 0., 1., 0., 0., 0.],\n",
       "       [0., 0., 0., 0., 0., 0., 0., 0., 0., 0., 0., 0., 0., 0., 0., 0.,\n",
       "        0., 0., 0., 0., 0., 0., 0., 0., 0., 0., 0., 1., 0., 0.],\n",
       "       [0., 0., 0., 0., 0., 0., 0., 0., 0., 0., 0., 0., 0., 0., 0., 0.,\n",
       "        0., 0., 0., 0., 0., 0., 0., 0., 0., 0., 0., 0., 1., 0.],\n",
       "       [0., 0., 0., 0., 0., 0., 0., 0., 0., 0., 0., 0., 0., 0., 0., 0.,\n",
       "        0., 0., 0., 0., 0., 0., 0., 0., 0., 0., 0., 0., 0., 1.]])"
      ]
     },
     "execution_count": 9,
     "metadata": {},
     "output_type": "execute_result"
    }
   ],
   "source": [
    "w = np.eye(30)\n",
    "w"
   ]
  },
  {
   "cell_type": "markdown",
   "id": "8c2bf312-bddd-4580-a3f6-e0319a6ce741",
   "metadata": {},
   "source": [
    "# random:\n",
    "The random module in Python provides various functions to generate random numbers and perform random operations. It is widely used in games, simulations, and other applications requiring random number generation"
   ]
  },
  {
   "cell_type": "code",
   "execution_count": 22,
   "id": "af45e32b-02f8-45c0-b3e5-818d43da0c1c",
   "metadata": {},
   "outputs": [
    {
     "name": "stdout",
     "output_type": "stream",
     "text": [
      "[[0.50401647 0.91533973 0.68858386]\n",
      " [0.84041137 0.86461089 0.27212741]]\n"
     ]
    }
   ],
   "source": [
    "e = np.random.rand(2,3)\n",
    "print(e)"
   ]
  },
  {
   "cell_type": "code",
   "execution_count": 24,
   "id": "45e6d7eb-0fe6-489e-a5c7-a2135a1d3a99",
   "metadata": {},
   "outputs": [
    {
     "data": {
      "text/plain": [
       "array([[7.45784096e-01, 7.88953039e-01, 3.47194155e-01, 7.37570786e-01],\n",
       "       [1.53790399e-01, 2.44922479e-01, 8.09980022e-01, 9.64458590e-01],\n",
       "       [6.50899102e-01, 3.90503156e-01, 1.35291918e-04, 5.76765189e-01],\n",
       "       [7.87197755e-01, 4.90154518e-01, 3.65346681e-01, 7.26888094e-01],\n",
       "       [2.14472987e-01, 3.79498665e-01, 9.95311991e-01, 7.56646281e-01]])"
      ]
     },
     "execution_count": 24,
     "metadata": {},
     "output_type": "execute_result"
    }
   ],
   "source": [
    "r = np.random.rand(5,4)\n",
    "r"
   ]
  },
  {
   "cell_type": "markdown",
   "id": "94132258-1c8c-4db9-8c9b-7cbbdd52918c",
   "metadata": {},
   "source": [
    "# find shape:\n",
    "To find the shape of an array in NumPy, you can use the .shape attribute. This attribute returns a tuple representing the dimensions of the array."
   ]
  },
  {
   "cell_type": "code",
   "execution_count": 27,
   "id": "d66b5c0d-19f4-4eea-ab39-3cb28331343b",
   "metadata": {},
   "outputs": [
    {
     "name": "stdout",
     "output_type": "stream",
     "text": [
      "Shape of the array: (3, 4)\n"
     ]
    }
   ],
   "source": [
    "w = np.array([[1,2,3,4],[2,3,4,6],[5,6,3,5]])\n",
    "shape = w.shape\n",
    "print(\"Shape of the array:\", shape)"
   ]
  },
  {
   "cell_type": "code",
   "execution_count": 31,
   "id": "df1cb091-9f3f-4010-93ae-9b0ae260ec1a",
   "metadata": {},
   "outputs": [
    {
     "name": "stdout",
     "output_type": "stream",
     "text": [
      "shape of the array: (5,)\n"
     ]
    }
   ],
   "source": [
    "a = np.array([1,2,3,4,5])\n",
    "shape = a.shape\n",
    "print(\"shape of the array:\",shape)"
   ]
  },
  {
   "cell_type": "markdown",
   "id": "76a8d3a0-fe77-4f98-b883-57e1a0a91ce4",
   "metadata": {},
   "source": [
    "# find element:\n",
    "To find an element in a NumPy array in Python, you can use the numpy.where() function. This function returns the indices of the elements that satisfy a given condition."
   ]
  },
  {
   "cell_type": "code",
   "execution_count": 35,
   "id": "bbb6b1c0-42b7-45ec-a214-fb42353d2977",
   "metadata": {},
   "outputs": [
    {
     "name": "stdout",
     "output_type": "stream",
     "text": [
      "8\n"
     ]
    }
   ],
   "source": [
    "a = np.array([[1,2,3,5],[5,2,1,4]])\n",
    "size = a.size\n",
    "print(a.size)"
   ]
  },
  {
   "cell_type": "code",
   "execution_count": 36,
   "id": "25b65ccd-a8a4-41df-95e2-548b00c144ad",
   "metadata": {},
   "outputs": [
    {
     "name": "stdout",
     "output_type": "stream",
     "text": [
      "12\n"
     ]
    }
   ],
   "source": [
    "w = np.array([[1,2,3,4],[2,3,4,6],[5,6,3,5]])\n",
    "size = w.size\n",
    "print(w.size)"
   ]
  },
  {
   "cell_type": "markdown",
   "id": "148cd7e9-1834-411a-8c00-3c1b266fef92",
   "metadata": {},
   "source": [
    "# length of array:\n",
    "This will give you the size of the first dimension (number of rows for a 2D array).Using are len().\n"
   ]
  },
  {
   "cell_type": "code",
   "execution_count": 39,
   "id": "388ab2d6-0e5f-4851-9d0c-cfd62aeb5221",
   "metadata": {},
   "outputs": [
    {
     "data": {
      "text/plain": [
       "2"
      ]
     },
     "execution_count": 39,
     "metadata": {},
     "output_type": "execute_result"
    }
   ],
   "source": [
    "a = np.array([[1,2,3,5],[5,2,1,4]])\n",
    "len(a)"
   ]
  },
  {
   "cell_type": "code",
   "execution_count": 40,
   "id": "c195a2d7-8e8e-4565-8c95-e59f2ae654ac",
   "metadata": {},
   "outputs": [
    {
     "data": {
      "text/plain": [
       "3"
      ]
     },
     "execution_count": 40,
     "metadata": {},
     "output_type": "execute_result"
    }
   ],
   "source": [
    "w = np.array([[1,2,3,4],[2,3,4,6],[5,6,3,5]])\n",
    "len(w)"
   ]
  },
  {
   "cell_type": "markdown",
   "id": "f9b8e6bb-1255-4bd1-b824-27b4a19d6c7a",
   "metadata": {},
   "source": [
    "# ACCESS ARRAY ELEMENTS:"
   ]
  },
  {
   "cell_type": "markdown",
   "id": "62ae9f9f-66a0-4936-aa60-e6b6f32a5a99",
   "metadata": {},
   "source": [
    "Array indexing is the same as accessing an array element.\n",
    "\n",
    "You can access an array element by referring to its index number.\n",
    "\n",
    "The indexes in NumPy arrays start with 0, meaning that the first element has index 0, and the second has index 1 etc.\n"
   ]
  },
  {
   "cell_type": "code",
   "execution_count": 2,
   "id": "82f5c3f1-3a22-4a30-b427-79768aa4d049",
   "metadata": {},
   "outputs": [],
   "source": [
    "import numpy as np"
   ]
  },
  {
   "cell_type": "code",
   "execution_count": 3,
   "id": "ad803efb-cab7-4c04-abc3-d27458cee371",
   "metadata": {},
   "outputs": [
    {
     "name": "stdout",
     "output_type": "stream",
     "text": [
      "1\n"
     ]
    }
   ],
   "source": [
    "#example \n",
    "\n",
    "arr = np.array([1, 2, 3, 4])\n",
    "print(arr[0])"
   ]
  },
  {
   "cell_type": "code",
   "execution_count": 4,
   "id": "5ebb5118-2451-4cdc-a006-e7aff0668282",
   "metadata": {},
   "outputs": [
    {
     "name": "stdout",
     "output_type": "stream",
     "text": [
      "4\n"
     ]
    }
   ],
   "source": [
    "arr = np.array([1, 2, 3, 4])\n",
    "print(arr[3])"
   ]
  },
  {
   "cell_type": "code",
   "execution_count": 12,
   "id": "7b1d516d-f1c3-4e24-8a11-ebbb520b15d9",
   "metadata": {},
   "outputs": [
    {
     "name": "stdout",
     "output_type": "stream",
     "text": [
      "3\n"
     ]
    }
   ],
   "source": [
    "a = np.array([[[1,2,3],[1,5,6],[8,7,9]]])\n",
    "print(arr[2])"
   ]
  },
  {
   "cell_type": "code",
   "execution_count": 18,
   "id": "02eaa39a-5881-452e-9979-fbec2640354e",
   "metadata": {},
   "outputs": [
    {
     "name": "stdout",
     "output_type": "stream",
     "text": [
      "6\n"
     ]
    }
   ],
   "source": [
    "d = np.array([10,100,10,100,100,10])\n",
    "print(arr[1]+arr[3])"
   ]
  },
  {
   "cell_type": "markdown",
   "id": "9c8161eb-5891-42f1-b38d-528465adce4b",
   "metadata": {},
   "source": [
    "# Access 2-D Arrays:-\n",
    "\n",
    "To access elements from 2-D arrays we can use comma separated integers representing the dimension and the index of the element.\r\n",
    "Think of 2-D arrays like a table with rows and columns, where the dimension represents the row and the index represents the column.\r\n",
    "\r\n"
   ]
  },
  {
   "cell_type": "code",
   "execution_count": 30,
   "id": "5e5d1ec4-d281-4c77-a7db-dfb6686d91ef",
   "metadata": {},
   "outputs": [
    {
     "name": "stdout",
     "output_type": "stream",
     "text": [
      "8\n"
     ]
    }
   ],
   "source": [
    "f = np.array([[4,6,2,3,4],[9,6,1,4,7]])\n",
    "print(arr[1, 2])"
   ]
  },
  {
   "cell_type": "code",
   "execution_count": 31,
   "id": "5d527858-dc4b-4d3a-a107-663f121083d4",
   "metadata": {},
   "outputs": [
    {
     "name": "stdout",
     "output_type": "stream",
     "text": [
      "2\n"
     ]
    }
   ],
   "source": [
    "arr = np.array([[1,2,3,4,5], [6,7,8,9,10]])\n",
    "print(arr[0,1])                               #2nd element on 1st row\n"
   ]
  },
  {
   "cell_type": "markdown",
   "id": "4f76429e-69a9-4143-952a-40c140137909",
   "metadata": {},
   "source": [
    "# Access 3-D Arrays:-\n",
    "To access elements from 3-D arrays we can use comma separated integers representing the dimensions and the index of the element.\r",
    "\r\n"
   ]
  },
  {
   "cell_type": "code",
   "execution_count": 33,
   "id": "94825d78-0911-48bc-835a-75dd32e42159",
   "metadata": {},
   "outputs": [
    {
     "name": "stdout",
     "output_type": "stream",
     "text": [
      "6\n"
     ]
    }
   ],
   "source": [
    "arr = np.array([[[1, 2, 3], [4, 5, 6]], [[7, 8, 9], [10, 11, 12]]])\n",
    "print(arr[0,1,2])"
   ]
  },
  {
   "cell_type": "markdown",
   "id": "0e5eee13-5d76-4440-9e2a-86be276edd45",
   "metadata": {},
   "source": [
    "# Negative Indexing\r",
    "Use negative indexing to access an array from the end.\r\n",
    "\n"
   ]
  },
  {
   "cell_type": "code",
   "execution_count": 34,
   "id": "b1d1d2e5-4525-4d05-8b14-164731083e9b",
   "metadata": {},
   "outputs": [
    {
     "name": "stdout",
     "output_type": "stream",
     "text": [
      "9\n"
     ]
    }
   ],
   "source": [
    "arr = np.array([[1,2,3,4,5], [6,7,8,9,10]])\n",
    "print(arr[1,-2])"
   ]
  },
  {
   "cell_type": "markdown",
   "id": "daa736a1-6567-49c3-bbcf-3e106d51bdb6",
   "metadata": {},
   "source": [
    "# Slicing arrays:\n",
    "Slicing in python means taking elements from one given index to another given index.\r\n",
    "\n",
    "We pass slice instead of index like this: [start:end].\r\n",
    "\n",
    "We can also define the step, like this: [start:end:step].\r\n",
    "\n",
    "If we don't pass start its considered 0\r\n",
    "\n",
    "If we don't pass end its considered length of array in that dimension\r\n",
    "\n",
    "If we don't pass step its considered 1\r\n",
    "\r\n",
    "\r\n",
    "\r\n",
    "\r\n",
    "\r\n",
    "\n"
   ]
  },
  {
   "cell_type": "code",
   "execution_count": 2,
   "id": "568390b4-eb84-4e9e-bd3b-9684c9fad357",
   "metadata": {},
   "outputs": [],
   "source": [
    "import numpy as np"
   ]
  },
  {
   "cell_type": "code",
   "execution_count": 5,
   "id": "e461b47a-c134-485f-9c5f-b150159ca856",
   "metadata": {},
   "outputs": [
    {
     "name": "stdout",
     "output_type": "stream",
     "text": [
      "[2 3 4 5]\n"
     ]
    }
   ],
   "source": [
    "arr = np.array([1, 2, 3, 4, 5, 6, 7])   #index 1 to index 5 \n",
    "print(arr[1:5])"
   ]
  },
  {
   "cell_type": "code",
   "execution_count": 6,
   "id": "f5f0013d-3ab4-472e-b845-27d608ce1570",
   "metadata": {},
   "outputs": [
    {
     "name": "stdout",
     "output_type": "stream",
     "text": [
      "[3 4 5 6]\n"
     ]
    }
   ],
   "source": [
    "print(arr[2:6])"
   ]
  },
  {
   "cell_type": "code",
   "execution_count": 8,
   "id": "77a189a4-9585-4dfa-abdc-57178fd63251",
   "metadata": {},
   "outputs": [
    {
     "name": "stdout",
     "output_type": "stream",
     "text": [
      "[5 6 7]\n"
     ]
    }
   ],
   "source": [
    "#from index 4 to the end\n",
    "\n",
    "arr = np.array([1, 2, 3, 4, 5, 6, 7])\n",
    "print(arr[4:])"
   ]
  },
  {
   "cell_type": "code",
   "execution_count": 10,
   "id": "f917d342-b0d6-4f41-b42a-b486e8f0f1c7",
   "metadata": {},
   "outputs": [
    {
     "name": "stdout",
     "output_type": "stream",
     "text": [
      "[1 2 3 4]\n"
     ]
    }
   ],
   "source": [
    "print(arr[:4])   #from the beginning to index 4 (not included)\n"
   ]
  },
  {
   "cell_type": "code",
   "execution_count": 17,
   "id": "8bd3e96d-bd90-433e-88e8-7821cd5206a8",
   "metadata": {},
   "outputs": [
    {
     "name": "stdout",
     "output_type": "stream",
     "text": [
      "[7]\n"
     ]
    }
   ],
   "source": [
    "#Negative Slicing:  Use the minus operator to refer to an index from the end\n",
    "\n",
    "arr = np.array([1,2,3,4,5,6,7,8,9])\n",
    "print(arr[-3:-2])"
   ]
  },
  {
   "cell_type": "code",
   "execution_count": 18,
   "id": "3bdc940b-1efe-464d-a28c-f790edbb6636",
   "metadata": {},
   "outputs": [
    {
     "name": "stdout",
     "output_type": "stream",
     "text": [
      "[6 7 8]\n"
     ]
    }
   ],
   "source": [
    "print(arr[-4:-1])"
   ]
  },
  {
   "cell_type": "code",
   "execution_count": 21,
   "id": "d80e04db-8b18-4916-8ddd-96d4ed9816d7",
   "metadata": {},
   "outputs": [
    {
     "name": "stdout",
     "output_type": "stream",
     "text": [
      "[2 4]\n"
     ]
    }
   ],
   "source": [
    "#Use the step value to determine the step of the slicing.\n",
    "\n",
    "print(arr[1:5:2])     #Return every other element from index 1 to index 5"
   ]
  },
  {
   "cell_type": "code",
   "execution_count": 22,
   "id": "fd1cc643-1261-4f66-bc86-b987ea2f811a",
   "metadata": {},
   "outputs": [
    {
     "name": "stdout",
     "output_type": "stream",
     "text": [
      "[3 4 5 6 7 8]\n"
     ]
    }
   ],
   "source": [
    "print(arr[2:8:1])"
   ]
  },
  {
   "cell_type": "code",
   "execution_count": 23,
   "id": "a3ab7934-5853-4b43-ab34-09698a9e96e5",
   "metadata": {},
   "outputs": [
    {
     "name": "stdout",
     "output_type": "stream",
     "text": [
      "[1 5 9]\n"
     ]
    }
   ],
   "source": [
    "print(arr[::4])       #from the entire array"
   ]
  },
  {
   "cell_type": "code",
   "execution_count": 27,
   "id": "095682e4-c147-4cd4-9830-b24e5f87bbf4",
   "metadata": {},
   "outputs": [
    {
     "name": "stdout",
     "output_type": "stream",
     "text": [
      "[3 5 6]\n"
     ]
    }
   ],
   "source": [
    "#From the second element, slice elements from index 1 to index 4 (not included):\n",
    "\n",
    "arr = np.array([[1,2,3,1,2],[4,3,5,6,7]])\n",
    "print(arr[1, 1:4])"
   ]
  },
  {
   "cell_type": "code",
   "execution_count": 29,
   "id": "9c677e8b-5345-41f4-a613-b98eed4a290d",
   "metadata": {},
   "outputs": [
    {
     "name": "stdout",
     "output_type": "stream",
     "text": [
      "[[2 3 4]\n",
      " [7 8 9]]\n"
     ]
    }
   ],
   "source": [
    "arr = np.array([[1, 2, 3, 4, 5], [6, 7, 8, 9, 10]])    #From both elements, slice index 1 to index 4not given, this will return a 2-D array\n",
    "print(arr[0:2, 1:4])"
   ]
  },
  {
   "cell_type": "code",
   "execution_count": 30,
   "id": "2bdded0d-5865-4fad-8d6b-e1b9c638f05e",
   "metadata": {},
   "outputs": [
    {
     "name": "stdout",
     "output_type": "stream",
     "text": [
      "[3 8]\n"
     ]
    }
   ],
   "source": [
    "arr = np.array([[1, 2, 3, 4, 5], [6, 7, 8, 9, 10]])   #From both elements, return index 2\n",
    "print(arr[0:2, 2])"
   ]
  },
  {
   "cell_type": "markdown",
   "id": "8f14df53-c7af-497d-9bcb-350fad5bbb86",
   "metadata": {},
   "source": [
    "# Data Types in NumPy\n",
    "\n",
    "NumPy, a core library for numerical computing in Python, provides a wide array of numeric data types that are optimized for handling large arrays of data. These data types are more extensive than Python's native data types and are closely aligned with C data types, allowing for seamless and fast integration with C, C++, and Fortran code.\r\n",
    "\n",
    "->NumPy's data types include:-\r\n",
    "\r\n",
    "Boolean: numpy.bool_, which stores True or False values.\r\n",
    "\r\n",
    "Integer: numpy.int_, numpy.intc, numpy.intp, and sized variants like numpy.int8, numpy.int16, numpy.int32, and numpy.int64.\r\n",
    "\r\n",
    "Unsigned Integer: numpy.uint, numpy.uintc, numpy.uintp, and sized variants like numpy.uint8, numpy.uint16, numpy.uint32, and numpy.uint64.\r\n",
    "\r\n",
    "Floating Point: numpy.float_, numpy.float16, numpy.float32, numpy.float64, and numpy.longdouble for extended precision.\r\n",
    "\r\n",
    "Complex: numpy.complex_, numpy.complex64, numpy.complex128, and numpy.clongdouble for complex numbers with extended precision.\r\n",
    "\r\n",
    "\r\n"
   ]
  },
  {
   "cell_type": "code",
   "execution_count": 3,
   "id": "fdc48b76-be6d-4c71-bad8-cfbedeeeb467",
   "metadata": {},
   "outputs": [
    {
     "name": "stdout",
     "output_type": "stream",
     "text": [
      "Requirement already satisfied: numpy in c:\\users\\talar\\anaconda3\\pythonds\\lib\\site-packages (1.26.4)\n"
     ]
    }
   ],
   "source": [
    "!pip install numpy"
   ]
  },
  {
   "cell_type": "code",
   "execution_count": 4,
   "id": "4c7606a6-c8e5-4764-a917-81476fc15504",
   "metadata": {},
   "outputs": [],
   "source": [
    "import numpy as np"
   ]
  },
  {
   "cell_type": "code",
   "execution_count": 5,
   "id": "ec440e0b-b54b-4334-85d9-1533ccca917d",
   "metadata": {},
   "outputs": [
    {
     "name": "stdout",
     "output_type": "stream",
     "text": [
      "int32\n"
     ]
    }
   ],
   "source": [
    "arr = np.array([9,8,7,6,5])\n",
    "print(arr.dtype)"
   ]
  },
  {
   "cell_type": "code",
   "execution_count": 6,
   "id": "a61acfd6-f869-49b6-896b-d965849fb17c",
   "metadata": {},
   "outputs": [
    {
     "name": "stdout",
     "output_type": "stream",
     "text": [
      "int32\n"
     ]
    }
   ],
   "source": [
    "arr = np.array([10,10,101],dtype = \"i\")\n",
    "print(arr.dtype)"
   ]
  },
  {
   "cell_type": "code",
   "execution_count": 7,
   "id": "1999d3f0-0559-4686-9540-d307558ccad6",
   "metadata": {},
   "outputs": [
    {
     "name": "stdout",
     "output_type": "stream",
     "text": [
      "<U5\n"
     ]
    }
   ],
   "source": [
    "arr = np.array(['kavya','navya','maxii','apple','water'])\n",
    "print(arr.dtype)"
   ]
  },
  {
   "cell_type": "code",
   "execution_count": 8,
   "id": "41852c32-99e7-4cf1-909a-ebd98ad49296",
   "metadata": {},
   "outputs": [
    {
     "name": "stdout",
     "output_type": "stream",
     "text": [
      "|S5\n"
     ]
    }
   ],
   "source": [
    "arr = np.array(['kavya','navya','maxii','apple','water'],dtype = \"S\")\n",
    "print(arr.dtype)"
   ]
  },
  {
   "cell_type": "code",
   "execution_count": 9,
   "id": "9f8c13d7-2dac-48a3-b45e-0dc12184ecc2",
   "metadata": {},
   "outputs": [
    {
     "name": "stdout",
     "output_type": "stream",
     "text": [
      "[b'1' b'2' b'3' b'4']\n",
      "|S1\n"
     ]
    }
   ],
   "source": [
    "arr = np.array([1, 2, 3, 4], dtype='S')\n",
    "print(arr)\n",
    "print(arr.dtype)"
   ]
  },
  {
   "cell_type": "code",
   "execution_count": 10,
   "id": "395dfa1d-bfe7-4212-808b-8011dd3b835a",
   "metadata": {},
   "outputs": [
    {
     "name": "stdout",
     "output_type": "stream",
     "text": [
      "[1 2 3 4]\n",
      "int8\n"
     ]
    }
   ],
   "source": [
    "arr = np.array([1, 2, 3, 4], dtype='b')\n",
    "print(arr)\n",
    "print(arr.dtype)"
   ]
  },
  {
   "cell_type": "code",
   "execution_count": 11,
   "id": "e7309e86-4b0a-4121-bcb9-77a9bd9ad34e",
   "metadata": {},
   "outputs": [
    {
     "name": "stdout",
     "output_type": "stream",
     "text": [
      "complex128\n"
     ]
    }
   ],
   "source": [
    "arr = np.array([1+3j,4+55j,44+5j])\n",
    "print(arr.dtype)"
   ]
  },
  {
   "cell_type": "code",
   "execution_count": 13,
   "id": "645a5635-7f77-43d4-8957-2328ba187729",
   "metadata": {},
   "outputs": [
    {
     "data": {
      "text/plain": [
       "dtype('float32')"
      ]
     },
     "execution_count": 13,
     "metadata": {},
     "output_type": "execute_result"
    }
   ],
   "source": [
    "arr = np.array([1.1,2.2,3.3,4.4,5.5,6.6],dtype ='f')\n",
    "arr.dtype"
   ]
  },
  {
   "cell_type": "markdown",
   "id": "23badbe5-142f-46f5-83e4-be908747097f",
   "metadata": {},
   "source": [
    "# NumPy astype() Method:-\n",
    "The numpy.astype() method is used to change the data type NumPy array from one data type to another."
   ]
  },
  {
   "cell_type": "markdown",
   "id": "635bd031-f764-4a12-a51e-4fc10650dc00",
   "metadata": {},
   "source": [
    "# Parameters:\n",
    "\n",
    "\n",
    "dtype: The data type you want to change into.\n",
    "\n",
    "order: Controls the memory layout order of the result. Options are ‘C’, ‘F’, ‘A’, ‘K’.\n",
    "\n",
    "casting: Controls the type of data casting. Options are ‘no’, ‘equiv’, ‘safe’, ‘same_kind’, ‘unsafe’.\n",
    "\n",
    "subok: If True, then sub-classes will be passed-through, otherwise the returned array will be forced to be a base-class array.\n",
    "\n",
    "copy: By default, astype() returns a newly allocated array. If set to false, the input array is returned instead of a copy.\n",
    "\n",
    "Return: The method returns a new array with new data type."
   ]
  },
  {
   "cell_type": "code",
   "execution_count": 14,
   "id": "7648b56b-fbe3-49da-ad91-5f44a09d6c4a",
   "metadata": {},
   "outputs": [
    {
     "name": "stdout",
     "output_type": "stream",
     "text": [
      "float64\n"
     ]
    }
   ],
   "source": [
    "#integer into float\n",
    "\n",
    "arr = np.array([1,2,3,4,5,6,7])\n",
    "arr = arr.astype('float') \n",
    "print(arr.dtype)"
   ]
  },
  {
   "cell_type": "code",
   "execution_count": 15,
   "id": "08816393-ea00-47ae-b0d3-7314551cbdb7",
   "metadata": {},
   "outputs": [
    {
     "name": "stdout",
     "output_type": "stream",
     "text": [
      "[10 20 30 40 50]\n",
      "int32\n"
     ]
    }
   ],
   "source": [
    "arr = np.array([10, 20, 30, 40, 50]) \n",
    "print(arr)\n",
    "print(arr.dtype)"
   ]
  },
  {
   "cell_type": "code",
   "execution_count": 16,
   "id": "77a21cb2-bcbb-4688-b067-efbd6dfc0b66",
   "metadata": {},
   "outputs": [
    {
     "name": "stdout",
     "output_type": "stream",
     "text": [
      "[10. 20. 30. 40. 50.]\n",
      "float64\n"
     ]
    }
   ],
   "source": [
    "arr = arr.astype('float') \n",
    "print(arr) \n",
    "print(arr.dtype)"
   ]
  },
  {
   "cell_type": "code",
   "execution_count": 17,
   "id": "d1a17c2c-b26c-4277-9512-a5ecde95af3a",
   "metadata": {},
   "outputs": [
    {
     "name": "stdout",
     "output_type": "stream",
     "text": [
      "[10.+0.j 20.+0.j 30.+0.j 40.+0.j 50.+0.j]\n",
      "complex128\n"
     ]
    }
   ],
   "source": [
    "arr = arr.astype('complex')    # integer into complex\n",
    "print(arr)\n",
    "print(arr.dtype)"
   ]
  },
  {
   "cell_type": "code",
   "execution_count": 18,
   "id": "75132bf0-4c44-4652-920c-2ff67683db35",
   "metadata": {},
   "outputs": [
    {
     "name": "stdout",
     "output_type": "stream",
     "text": [
      "[ True  True  True  True  True]\n",
      "bool\n"
     ]
    }
   ],
   "source": [
    "arr = arr.astype('bool')         #integer into boolean\n",
    "print(arr)\n",
    "print(arr.dtype)"
   ]
  },
  {
   "cell_type": "code",
   "execution_count": 19,
   "id": "10f53486-0ffe-42ac-9ec0-c236e9138a65",
   "metadata": {},
   "outputs": [
    {
     "name": "stdout",
     "output_type": "stream",
     "text": [
      "float64\n"
     ]
    }
   ],
   "source": [
    "arr1 = np.array([1.1,2.2,3.3,4.4,5.5,6.6,7.7]) \n",
    "print(arr1.dtype)"
   ]
  },
  {
   "cell_type": "code",
   "execution_count": 20,
   "id": "aec08072-505d-4fda-95a2-4fda9085150b",
   "metadata": {},
   "outputs": [
    {
     "name": "stdout",
     "output_type": "stream",
     "text": [
      "int32\n",
      "[1 2 3 4 5 6 7]\n"
     ]
    }
   ],
   "source": [
    "arr1 = arr1.astype('int')  #float into intger\n",
    "print(arr1.dtype)\n",
    "print(arr1)"
   ]
  },
  {
   "cell_type": "code",
   "execution_count": 21,
   "id": "d5cb8fba-1289-46b9-aab7-af150a9b7449",
   "metadata": {},
   "outputs": [
    {
     "name": "stdout",
     "output_type": "stream",
     "text": [
      "complex128\n",
      "[1.+0.j 2.+0.j 3.+0.j 4.+0.j 5.+0.j 6.+0.j 7.+0.j]\n"
     ]
    }
   ],
   "source": [
    "arr1 = arr1.astype('complex')   #float into complex\n",
    "print(arr1.dtype)\n",
    "print(arr1)"
   ]
  },
  {
   "cell_type": "code",
   "execution_count": 22,
   "id": "554ed070-759e-4a40-989f-ece866ded8aa",
   "metadata": {},
   "outputs": [
    {
     "name": "stdout",
     "output_type": "stream",
     "text": [
      "bool\n",
      "[ True  True  True  True  True  True  True]\n"
     ]
    }
   ],
   "source": [
    "arr1 = arr1.astype('bool')    #float into boolean\n",
    "print(arr1.dtype)\n",
    "print(arr1)"
   ]
  },
  {
   "cell_type": "code",
   "execution_count": 23,
   "id": "a26beb70-a556-4778-a42a-413422cb8858",
   "metadata": {},
   "outputs": [
    {
     "name": "stdout",
     "output_type": "stream",
     "text": [
      "complex128\n"
     ]
    }
   ],
   "source": [
    "arr2 = np.array([1+2j,3+8j,1+5j,4+6j,4+55j,9+1j])     #complex array\n",
    "print(arr2.dtype)"
   ]
  },
  {
   "cell_type": "code",
   "execution_count": 25,
   "id": "24851b56-e91d-4129-b163-2805b054ffb7",
   "metadata": {},
   "outputs": [
    {
     "name": "stdout",
     "output_type": "stream",
     "text": [
      "int32\n",
      "[1 3 1 4 4 9]\n"
     ]
    }
   ],
   "source": [
    "arr2 = arr2.astype('int')\n",
    "print(arr2.dtype)\n",
    "print(arr2)"
   ]
  },
  {
   "cell_type": "code",
   "execution_count": 26,
   "id": "fd231591-94bc-498a-8993-9f1219e73821",
   "metadata": {},
   "outputs": [
    {
     "name": "stdout",
     "output_type": "stream",
     "text": [
      "float64\n",
      "[1. 3. 1. 4. 4. 9.]\n"
     ]
    }
   ],
   "source": [
    "arr2  = arr2.astype('float')\n",
    "print(arr2.dtype)\n",
    "print(arr2)"
   ]
  },
  {
   "cell_type": "code",
   "execution_count": 27,
   "id": "605c3d0d-9533-4ab1-8bcc-b8d12f094965",
   "metadata": {},
   "outputs": [
    {
     "name": "stdout",
     "output_type": "stream",
     "text": [
      "bool\n",
      "[ True  True  True  True  True  True]\n"
     ]
    }
   ],
   "source": [
    "arr2 = arr2.astype('bool')\n",
    "print(arr2.dtype)\n",
    "print(arr2)"
   ]
  },
  {
   "cell_type": "code",
   "execution_count": 28,
   "id": "28dc2367-94f4-4d7c-b2de-f0e84bbda673",
   "metadata": {},
   "outputs": [
    {
     "name": "stdout",
     "output_type": "stream",
     "text": [
      "int32\n"
     ]
    }
   ],
   "source": [
    "arr3 = np.array([1,0,1,2,0,3,0])  #boolean\n",
    "print(arr3.dtype)"
   ]
  },
  {
   "cell_type": "code",
   "execution_count": 29,
   "id": "fe6d60d2-2e77-4c4c-8269-a4057fe97bd8",
   "metadata": {},
   "outputs": [
    {
     "name": "stdout",
     "output_type": "stream",
     "text": [
      "int32\n",
      "[1 0 1 2 0 3 0]\n"
     ]
    }
   ],
   "source": [
    "arr3 = arr3.astype('int')\n",
    "print(arr3.dtype)\n",
    "print(arr3)"
   ]
  },
  {
   "cell_type": "code",
   "execution_count": 30,
   "id": "2afca41e-57cc-4b3d-b9f7-4bfd3fb0bb75",
   "metadata": {},
   "outputs": [
    {
     "name": "stdout",
     "output_type": "stream",
     "text": [
      "float64\n",
      "[1. 0. 1. 2. 0. 3. 0.]\n"
     ]
    }
   ],
   "source": [
    "arr3 = arr3.astype('float')\n",
    "print(arr3.dtype)\n",
    "print(arr3)"
   ]
  },
  {
   "cell_type": "code",
   "execution_count": 31,
   "id": "031194a2-ff59-4ac8-b4ac-e03d92837cb5",
   "metadata": {},
   "outputs": [
    {
     "name": "stdout",
     "output_type": "stream",
     "text": [
      "complex128\n",
      "[1.+0.j 0.+0.j 1.+0.j 2.+0.j 0.+0.j 3.+0.j 0.+0.j]\n"
     ]
    }
   ],
   "source": [
    "arr3 = arr3.astype('complex')\n",
    "print(arr3.dtype)\n",
    "print(arr3)"
   ]
  },
  {
   "cell_type": "markdown",
   "id": "c1f16838-60a0-4877-bb0e-70b9a41c38b3",
   "metadata": {},
   "source": [
    "# Copy method:\n",
    "\n",
    "\n",
    "It is used to create a new array that is a copy of an existing array but does not share memory with it. This means that making any changes to the original array won’t affect the existing array.\n",
    "\n",
    "Use numpy.copy() function to copy Python NumPy array (ndarray) to another array. This method takes the array you wanted to copy as an argument and returns an array copy of the given object. The copy owns the data and any changes made to the copy will not affect the original array"
   ]
  },
  {
   "cell_type": "code",
   "execution_count": 47,
   "id": "388fa8c8-a875-4747-9d92-b61fd8586579",
   "metadata": {},
   "outputs": [
    {
     "name": "stdout",
     "output_type": "stream",
     "text": [
      "[1 2 3 2 7 6]\n",
      "[1 2 3 5 7 6]\n"
     ]
    }
   ],
   "source": [
    "arr = np.array([1,2,3,2,7,6])\n",
    "x = arr.copy()\n",
    "arr[3] = 5\n",
    "print(x)\n",
    "print(arr)"
   ]
  },
  {
   "cell_type": "code",
   "execution_count": 48,
   "id": "09552fc0-1e29-45d1-84d1-80760a4114fe",
   "metadata": {},
   "outputs": [
    {
     "name": "stdout",
     "output_type": "stream",
     "text": [
      "[   10   100  1000  1000 10000]\n",
      "[   10   100    10  1000 10000]\n"
     ]
    }
   ],
   "source": [
    "s = np.array([10,100,10,1000,10000])\n",
    "a = s.copy()\n",
    "s[2] = 1000\n",
    "print(s)\n",
    "print(a)"
   ]
  },
  {
   "cell_type": "markdown",
   "id": "fd9c7036-0250-45cc-8e0d-2b9d2d6ccb25",
   "metadata": {},
   "source": [
    "# View method:\n",
    "\n",
    "The view is just a view of the original ndarray and the view does not own the data. \r\n",
    "\r\n",
    "You can create an array view using the view() function of the NumPy library.\r\n",
    "\r\n",
    "This is also known as Shallow Copy. \r\n",
    "\r\n",
    "When we make changes to the view it affects the original array, and when changes are made to the original array it affects the view."
   ]
  },
  {
   "cell_type": "code",
   "execution_count": 50,
   "id": "001a8654-98de-4f2c-a755-0e5c0eb71a87",
   "metadata": {},
   "outputs": [
    {
     "name": "stdout",
     "output_type": "stream",
     "text": [
      "[1 2 9 4 5 6]\n",
      "[1 2 9 4 5 6]\n"
     ]
    }
   ],
   "source": [
    "arr1 = np.array([1,2,3,4,5,6])\n",
    "y = arr1.view()\n",
    "arr1[2] = 9\n",
    "print(arr1)\n",
    "print(y)"
   ]
  },
  {
   "cell_type": "code",
   "execution_count": 51,
   "id": "06ecf11e-c0b4-4307-a5da-7f88ddeb051d",
   "metadata": {},
   "outputs": [
    {
     "name": "stdout",
     "output_type": "stream",
     "text": [
      "[     10     100 1000000   10000  100000]\n",
      "[     10     100 1000000   10000  100000]\n"
     ]
    }
   ],
   "source": [
    "q = np.array([10,100,1000,10000,100000])\n",
    "w = q.view()\n",
    "q[2] = 1000000\n",
    "print(q)\n",
    "print(w)"
   ]
  },
  {
   "cell_type": "markdown",
   "id": "acbd04f7-7627-4cb5-93a7-e28b3328112d",
   "metadata": {},
   "source": [
    "# Reshaping array:\n",
    "\n",
    "Reshaping arrays in NumPy is a common task that allows you to change the shape of an array without altering its data. Here’s a quick guide on how to do it using the reshape function.\n",
    "\n",
    "\n",
    "Reshaping arrays in NumPy is a common task that allows you to change the shape of an array without altering its data. Here’s a quick guide on how to do it using the reshape function."
   ]
  },
  {
   "cell_type": "code",
   "execution_count": 52,
   "id": "f4e2637b-9880-4151-9450-9f5177b0cb63",
   "metadata": {},
   "outputs": [
    {
     "name": "stdout",
     "output_type": "stream",
     "text": [
      "8\n",
      "[[1 2 3 4]\n",
      " [5 6 7 8]]\n"
     ]
    }
   ],
   "source": [
    "arr = np.array([1,2,3,4,5,6,7,8])\n",
    "print(arr.size)\n",
    "newarr = arr.reshape(2,4)\n",
    "print(newarr)"
   ]
  },
  {
   "cell_type": "code",
   "execution_count": 57,
   "id": "219c0501-c992-402d-8e1f-04c0e19dbde3",
   "metadata": {},
   "outputs": [
    {
     "name": "stdout",
     "output_type": "stream",
     "text": [
      "6\n",
      "[[  10 1000  100]\n",
      " [ 101  102  103]]\n"
     ]
    }
   ],
   "source": [
    "x = np.array([10,1000,100,101,102,103])\n",
    "s = x.reshape(2,3)\n",
    "print(x.size)\n",
    "print(s)"
   ]
  },
  {
   "cell_type": "markdown",
   "id": "f249e234-c644-41c6-9837-7401953c0dde",
   "metadata": {},
   "source": [
    "# Addition,subtraction,multiply,divide,square,sort Arrays:"
   ]
  },
  {
   "cell_type": "code",
   "execution_count": 58,
   "id": "cdfcfa92-b37e-4979-9c3a-f5b453e71622",
   "metadata": {},
   "outputs": [],
   "source": [
    "a = np.array([[[1,2,3,4,5],[6,7,8,9,10],[11,12,13,14,15]]])\n",
    "b = np.array([[[10,9,8,7,6],[5,4,3,2,1],[3,4,2,5,6]]])"
   ]
  },
  {
   "cell_type": "code",
   "execution_count": 60,
   "id": "9bb6f05f-1d63-4338-840e-cb3132571cd5",
   "metadata": {},
   "outputs": [
    {
     "name": "stdout",
     "output_type": "stream",
     "text": [
      "[[[11 11 11 11 11]\n",
      "  [11 11 11 11 11]\n",
      "  [14 16 15 19 21]]]\n"
     ]
    }
   ],
   "source": [
    "print(np.add(a,b))    #addition of two array"
   ]
  },
  {
   "cell_type": "code",
   "execution_count": 61,
   "id": "eabe8540-d802-4b3e-8d12-35c73b3452f9",
   "metadata": {},
   "outputs": [
    {
     "name": "stdout",
     "output_type": "stream",
     "text": [
      "[[[-9 -7 -5 -3 -1]\n",
      "  [ 1  3  5  7  9]\n",
      "  [ 8  8 11  9  9]]]\n"
     ]
    }
   ],
   "source": [
    "print(a-b)       #subtraction of two array"
   ]
  },
  {
   "cell_type": "code",
   "execution_count": 62,
   "id": "dcb8f7d7-798b-4d84-b817-3998c3dbe45e",
   "metadata": {},
   "outputs": [
    {
     "name": "stdout",
     "output_type": "stream",
     "text": [
      "[[[10 18 24 28 30]\n",
      "  [30 28 24 18 10]\n",
      "  [33 48 26 70 90]]]\n"
     ]
    }
   ],
   "source": [
    "print(a*b)      #multiply of two array"
   ]
  },
  {
   "cell_type": "code",
   "execution_count": 63,
   "id": "d7c78722-6514-416f-8bd3-f708aea78f6a",
   "metadata": {},
   "outputs": [
    {
     "name": "stdout",
     "output_type": "stream",
     "text": [
      "[[[ 0.1         0.22222222  0.375       0.57142857  0.83333333]\n",
      "  [ 1.2         1.75        2.66666667  4.5        10.        ]\n",
      "  [ 3.66666667  3.          6.5         2.8         2.5       ]]]\n"
     ]
    }
   ],
   "source": [
    "print(np.divide(a,b))      #divide of two array"
   ]
  },
  {
   "cell_type": "code",
   "execution_count": 68,
   "id": "a5c3d6c1-7b1b-432a-b6a6-7ccac00997fc",
   "metadata": {},
   "outputs": [
    {
     "name": "stdout",
     "output_type": "stream",
     "text": [
      "[[[1.         1.41421356 1.73205081 2.         2.23606798]\n",
      "  [2.44948974 2.64575131 2.82842712 3.         3.16227766]\n",
      "  [3.31662479 3.46410162 3.60555128 3.74165739 3.87298335]]]\n"
     ]
    }
   ],
   "source": [
    "print(np.sqrt(a))    #square of array"
   ]
  },
  {
   "cell_type": "code",
   "execution_count": 69,
   "id": "95bec072-ed3a-43e6-aa71-e76d5602bd7d",
   "metadata": {},
   "outputs": [
    {
     "name": "stdout",
     "output_type": "stream",
     "text": [
      "[[[3.16227766 3.         2.82842712 2.64575131 2.44948974]\n",
      "  [2.23606798 2.         1.73205081 1.41421356 1.        ]\n",
      "  [1.73205081 2.         1.41421356 2.23606798 2.44948974]]]\n"
     ]
    }
   ],
   "source": [
    "print(np.sqrt(b))"
   ]
  },
  {
   "cell_type": "markdown",
   "id": "f0901f59-c833-4944-ab1a-f8f8cb571a7b",
   "metadata": {},
   "source": [
    "# sort array:\n",
    "The numpy.sort() function sorts the array in ascending order by default. You can also sort arrays along a specific axis or use different sorting algorithms like ‘quicksort’, ‘mergesort’, ‘heapsort’, or 'stable’12."
   ]
  },
  {
   "cell_type": "code",
   "execution_count": 70,
   "id": "e07c4392-3019-4c6f-8d54-5e8628e11925",
   "metadata": {},
   "outputs": [
    {
     "name": "stdout",
     "output_type": "stream",
     "text": [
      "[[[ 1  2  3  4  5]\n",
      "  [ 6  7  8  9 10]\n",
      "  [11 12 13 14 15]]]\n"
     ]
    }
   ],
   "source": [
    "print(np.sort(a))"
   ]
  },
  {
   "cell_type": "code",
   "execution_count": 72,
   "id": "b4b77b1e-084c-4e54-821b-2e2f34b71f2d",
   "metadata": {},
   "outputs": [
    {
     "name": "stdout",
     "output_type": "stream",
     "text": [
      "[[[ 6  7  8  9 10]\n",
      "  [ 1  2  3  4  5]\n",
      "  [ 2  3  4  5  6]]]\n"
     ]
    }
   ],
   "source": [
    "print(np.sort(b))"
   ]
  },
  {
   "cell_type": "markdown",
   "id": "fd1e4122-97e6-4bbb-8140-0082c966f5d8",
   "metadata": {},
   "source": [
    "# Slicing Array:\n",
    "\n",
    "Slicing in python means taking elements from one given index to another given index.\r\n",
    "\r\n",
    "We pass slice instead of index like this: [start:end].\r\n",
    "\r\n",
    "We can also define the step, like this: [start:end:step].\r\n",
    "\r\n",
    "If we don't pass start its considered 0\r\n",
    "\r\n",
    "If we don't pass end its considered length of array in that dimension\r\n",
    "\r\n",
    "If we don't pass step its considered 1\r\n",
    "\r\n"
   ]
  },
  {
   "cell_type": "code",
   "execution_count": 73,
   "id": "f5ad0e33-1e1b-4386-af76-7bb52e74f0fb",
   "metadata": {},
   "outputs": [
    {
     "name": "stdout",
     "output_type": "stream",
     "text": [
      "[4 5 6]\n"
     ]
    }
   ],
   "source": [
    "arr = np.array([9,4,5,6,2,5])\n",
    "print(arr[1:4])"
   ]
  },
  {
   "cell_type": "code",
   "execution_count": 75,
   "id": "d432a1b8-de47-432a-a0c3-e74560b9f96c",
   "metadata": {},
   "outputs": [
    {
     "name": "stdout",
     "output_type": "stream",
     "text": [
      "[9 4 5 6 2]\n"
     ]
    }
   ],
   "source": [
    "print(arr[:5]) #no starting element"
   ]
  },
  {
   "cell_type": "code",
   "execution_count": 76,
   "id": "e88bedb3-4433-41ee-81ea-da17cf356de7",
   "metadata": {},
   "outputs": [
    {
     "name": "stdout",
     "output_type": "stream",
     "text": [
      "[6 2 5]\n"
     ]
    }
   ],
   "source": [
    "print(arr[3:])     #no ending element"
   ]
  },
  {
   "cell_type": "code",
   "execution_count": 78,
   "id": "6140ecd4-af8d-48f8-8b54-292581247928",
   "metadata": {},
   "outputs": [
    {
     "name": "stdout",
     "output_type": "stream",
     "text": [
      "[]\n"
     ]
    }
   ],
   "source": [
    "print(arr[-1:-5])      #negtive array"
   ]
  },
  {
   "cell_type": "code",
   "execution_count": 86,
   "id": "8506410f-0065-41f6-b50c-ff73f7de0305",
   "metadata": {},
   "outputs": [
    {
     "name": "stdout",
     "output_type": "stream",
     "text": [
      "[1 3 2 1 7]\n"
     ]
    }
   ],
   "source": [
    "arr1 = np.array([1,2,3,4,2,4,1,5,7,3,5,6])\n",
    "print(arr1[0:9:2])                             # first starting, count element,steps next element with n-1"
   ]
  },
  {
   "cell_type": "code",
   "execution_count": 89,
   "id": "151a3fc3-d809-42d8-aa6a-5f8da78ccdd7",
   "metadata": {},
   "outputs": [
    {
     "name": "stdout",
     "output_type": "stream",
     "text": [
      "[1 5]\n"
     ]
    }
   ],
   "source": [
    "print(arr1[::7])      #return every other element "
   ]
  },
  {
   "cell_type": "code",
   "execution_count": 90,
   "id": "0745d309-2426-4a61-ada3-492a4bd05e8b",
   "metadata": {},
   "outputs": [
    {
     "name": "stdout",
     "output_type": "stream",
     "text": [
      "[4 2 4]\n"
     ]
    }
   ],
   "source": [
    "s = np.array([[4,5,6,3],[7,4,2,4]])\n",
    "print(s[1,1:4])"
   ]
  },
  {
   "cell_type": "code",
   "execution_count": 94,
   "id": "782e0731-3765-4bbe-b734-ddc7a370a3a3",
   "metadata": {},
   "outputs": [
    {
     "name": "stdout",
     "output_type": "stream",
     "text": [
      "[[2 9 5]]\n"
     ]
    }
   ],
   "source": [
    "arr = np.array([[[2,4,5],[6,7,4],[2,9,5]]])\n",
    "print(arr[0:2,2])"
   ]
  },
  {
   "cell_type": "code",
   "execution_count": 103,
   "id": "e62da5dd-35b2-49a1-a39a-4a8e3b743243",
   "metadata": {},
   "outputs": [
    {
     "name": "stdout",
     "output_type": "stream",
     "text": [
      "[[6 7 4]]\n"
     ]
    }
   ],
   "source": [
    "print(arr[0:2,1])"
   ]
  },
  {
   "cell_type": "code",
   "execution_count": null,
   "id": "22a768f7-ecfc-44b8-a0d0-fe7fa4f38abb",
   "metadata": {},
   "outputs": [],
   "source": []
  }
 ],
 "metadata": {
  "kernelspec": {
   "display_name": "Python 3 (ipykernel)",
   "language": "python",
   "name": "python3"
  },
  "language_info": {
   "codemirror_mode": {
    "name": "ipython",
    "version": 3
   },
   "file_extension": ".py",
   "mimetype": "text/x-python",
   "name": "python",
   "nbconvert_exporter": "python",
   "pygments_lexer": "ipython3",
   "version": "3.12.4"
  }
 },
 "nbformat": 4,
 "nbformat_minor": 5
}
